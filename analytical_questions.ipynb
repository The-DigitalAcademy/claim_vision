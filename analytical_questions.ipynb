{
 "cells": [
  {
   "cell_type": "markdown",
   "metadata": {},
   "source": [
    "### Import Libraries"
   ]
  },
  {
   "cell_type": "code",
   "execution_count": 28,
   "metadata": {},
   "outputs": [],
   "source": [
    "import pandas as pd"
   ]
  },
  {
   "cell_type": "markdown",
   "metadata": {},
   "source": [
    "### Load the csv files"
   ]
  },
  {
   "cell_type": "code",
   "execution_count": 29,
   "metadata": {},
   "outputs": [
    {
     "data": {
      "text/html": [
       "<div>\n",
       "<style scoped>\n",
       "    .dataframe tbody tr th:only-of-type {\n",
       "        vertical-align: middle;\n",
       "    }\n",
       "\n",
       "    .dataframe tbody tr th {\n",
       "        vertical-align: top;\n",
       "    }\n",
       "\n",
       "    .dataframe thead th {\n",
       "        text-align: right;\n",
       "    }\n",
       "</style>\n",
       "<table border=\"1\" class=\"dataframe\">\n",
       "  <thead>\n",
       "    <tr style=\"text-align: right;\">\n",
       "      <th></th>\n",
       "      <th>ID</th>\n",
       "      <th>Policy_Start_Date</th>\n",
       "      <th>Policy_End_Date</th>\n",
       "      <th>Gender</th>\n",
       "      <th>Age</th>\n",
       "      <th>First_Transaction_Date</th>\n",
       "      <th>No_Pol</th>\n",
       "      <th>Car_Category</th>\n",
       "      <th>Subject_Car_Colour</th>\n",
       "      <th>Subject_Car_Make</th>\n",
       "      <th>LGA_Name</th>\n",
       "      <th>State</th>\n",
       "      <th>ProductName</th>\n",
       "      <th>target</th>\n",
       "    </tr>\n",
       "  </thead>\n",
       "  <tbody>\n",
       "    <tr>\n",
       "      <th>0</th>\n",
       "      <td>ID_O51ZQ1B</td>\n",
       "      <td>2001-12-11</td>\n",
       "      <td>2011-12-10</td>\n",
       "      <td>Female</td>\n",
       "      <td>37.0</td>\n",
       "      <td>2001-12-11</td>\n",
       "      <td>1</td>\n",
       "      <td>Saloon</td>\n",
       "      <td>Black</td>\n",
       "      <td>Honda</td>\n",
       "      <td>NaN</td>\n",
       "      <td>NaN</td>\n",
       "      <td>Car Vintage</td>\n",
       "      <td>0</td>\n",
       "    </tr>\n",
       "    <tr>\n",
       "      <th>1</th>\n",
       "      <td>ID_VJ1FAVO</td>\n",
       "      <td>2002-03-25</td>\n",
       "      <td>2011-03-24</td>\n",
       "      <td>Male</td>\n",
       "      <td>37.0</td>\n",
       "      <td>2002-03-25</td>\n",
       "      <td>1</td>\n",
       "      <td>Saloon</td>\n",
       "      <td>Black</td>\n",
       "      <td>TOYOTA</td>\n",
       "      <td>Ekiti</td>\n",
       "      <td>Benue</td>\n",
       "      <td>Car Classic</td>\n",
       "      <td>0</td>\n",
       "    </tr>\n",
       "    <tr>\n",
       "      <th>2</th>\n",
       "      <td>ID_ULWS8VL</td>\n",
       "      <td>2003-04-13</td>\n",
       "      <td>2011-04-12</td>\n",
       "      <td>Male</td>\n",
       "      <td>41.0</td>\n",
       "      <td>2003-04-13</td>\n",
       "      <td>2</td>\n",
       "      <td>Saloon</td>\n",
       "      <td>Black</td>\n",
       "      <td>TOYOTA</td>\n",
       "      <td>Ikeja</td>\n",
       "      <td>Lagos</td>\n",
       "      <td>Car Vintage</td>\n",
       "      <td>0</td>\n",
       "    </tr>\n",
       "    <tr>\n",
       "      <th>3</th>\n",
       "      <td>ID_ZYKGSP7</td>\n",
       "      <td>2003-12-21</td>\n",
       "      <td>2034-05-20</td>\n",
       "      <td>Male</td>\n",
       "      <td>48.0</td>\n",
       "      <td>2003-12-21</td>\n",
       "      <td>2</td>\n",
       "      <td>Saloon</td>\n",
       "      <td>Black</td>\n",
       "      <td>BMW</td>\n",
       "      <td>Ikeja</td>\n",
       "      <td>Lagos</td>\n",
       "      <td>Car Vintage</td>\n",
       "      <td>0</td>\n",
       "    </tr>\n",
       "    <tr>\n",
       "      <th>4</th>\n",
       "      <td>ID_OEWBKGF</td>\n",
       "      <td>2005-08-05</td>\n",
       "      <td>2011-09-29</td>\n",
       "      <td>Female</td>\n",
       "      <td>44.0</td>\n",
       "      <td>2005-08-05</td>\n",
       "      <td>1</td>\n",
       "      <td>Saloon</td>\n",
       "      <td>Black</td>\n",
       "      <td>Tata</td>\n",
       "      <td>Ajah</td>\n",
       "      <td>Lagos</td>\n",
       "      <td>CVTP</td>\n",
       "      <td>0</td>\n",
       "    </tr>\n",
       "    <tr>\n",
       "      <th>...</th>\n",
       "      <td>...</td>\n",
       "      <td>...</td>\n",
       "      <td>...</td>\n",
       "      <td>...</td>\n",
       "      <td>...</td>\n",
       "      <td>...</td>\n",
       "      <td>...</td>\n",
       "      <td>...</td>\n",
       "      <td>...</td>\n",
       "      <td>...</td>\n",
       "      <td>...</td>\n",
       "      <td>...</td>\n",
       "      <td>...</td>\n",
       "      <td>...</td>\n",
       "    </tr>\n",
       "    <tr>\n",
       "      <th>12074</th>\n",
       "      <td>ID_MLGO8DZ</td>\n",
       "      <td>2010-12-31</td>\n",
       "      <td>2011-06-30</td>\n",
       "      <td>Male</td>\n",
       "      <td>51.0</td>\n",
       "      <td>2010-12-31</td>\n",
       "      <td>4</td>\n",
       "      <td>Saloon</td>\n",
       "      <td>Black</td>\n",
       "      <td>Honda</td>\n",
       "      <td>Victoria Island</td>\n",
       "      <td>Lagos</td>\n",
       "      <td>Car Classic</td>\n",
       "      <td>0</td>\n",
       "    </tr>\n",
       "    <tr>\n",
       "      <th>12075</th>\n",
       "      <td>ID_62LBOWI</td>\n",
       "      <td>2010-12-31</td>\n",
       "      <td>2011-12-30</td>\n",
       "      <td>Male</td>\n",
       "      <td>44.0</td>\n",
       "      <td>2010-12-31</td>\n",
       "      <td>1</td>\n",
       "      <td>Saloon</td>\n",
       "      <td>Black</td>\n",
       "      <td>Honda</td>\n",
       "      <td>Victoria Island</td>\n",
       "      <td>Lagos</td>\n",
       "      <td>Car Classic</td>\n",
       "      <td>0</td>\n",
       "    </tr>\n",
       "    <tr>\n",
       "      <th>12076</th>\n",
       "      <td>ID_XR8F115</td>\n",
       "      <td>2010-12-31</td>\n",
       "      <td>2011-12-30</td>\n",
       "      <td>Male</td>\n",
       "      <td>37.0</td>\n",
       "      <td>2010-12-31</td>\n",
       "      <td>1</td>\n",
       "      <td>JEEP</td>\n",
       "      <td>Black</td>\n",
       "      <td>Hyundai</td>\n",
       "      <td>Victoria Island</td>\n",
       "      <td>Lagos</td>\n",
       "      <td>CarSafe</td>\n",
       "      <td>0</td>\n",
       "    </tr>\n",
       "    <tr>\n",
       "      <th>12077</th>\n",
       "      <td>ID_8P2UGYO</td>\n",
       "      <td>2010-12-31</td>\n",
       "      <td>2011-12-30</td>\n",
       "      <td>Male</td>\n",
       "      <td>20.0</td>\n",
       "      <td>2010-12-31</td>\n",
       "      <td>1</td>\n",
       "      <td>JEEP</td>\n",
       "      <td>Black</td>\n",
       "      <td>Hyundai</td>\n",
       "      <td>Victoria Island</td>\n",
       "      <td>Lagos</td>\n",
       "      <td>CarSafe</td>\n",
       "      <td>0</td>\n",
       "    </tr>\n",
       "    <tr>\n",
       "      <th>12078</th>\n",
       "      <td>ID_8MNXRC6</td>\n",
       "      <td>2010-12-31</td>\n",
       "      <td>2011-12-16</td>\n",
       "      <td>Male</td>\n",
       "      <td>36.0</td>\n",
       "      <td>2010-12-31</td>\n",
       "      <td>1</td>\n",
       "      <td>Saloon</td>\n",
       "      <td>Silver</td>\n",
       "      <td>Kia</td>\n",
       "      <td>Anthony Village</td>\n",
       "      <td>Lagos</td>\n",
       "      <td>Car Classic</td>\n",
       "      <td>1</td>\n",
       "    </tr>\n",
       "  </tbody>\n",
       "</table>\n",
       "<p>12079 rows × 14 columns</p>\n",
       "</div>"
      ],
      "text/plain": [
       "               ID Policy_Start_Date Policy_End_Date  Gender   Age  \\\n",
       "0      ID_O51ZQ1B        2001-12-11      2011-12-10  Female  37.0   \n",
       "1      ID_VJ1FAVO        2002-03-25      2011-03-24    Male  37.0   \n",
       "2      ID_ULWS8VL        2003-04-13      2011-04-12    Male  41.0   \n",
       "3      ID_ZYKGSP7        2003-12-21      2034-05-20    Male  48.0   \n",
       "4      ID_OEWBKGF        2005-08-05      2011-09-29  Female  44.0   \n",
       "...           ...               ...             ...     ...   ...   \n",
       "12074  ID_MLGO8DZ        2010-12-31      2011-06-30    Male  51.0   \n",
       "12075  ID_62LBOWI        2010-12-31      2011-12-30    Male  44.0   \n",
       "12076  ID_XR8F115        2010-12-31      2011-12-30    Male  37.0   \n",
       "12077  ID_8P2UGYO        2010-12-31      2011-12-30    Male  20.0   \n",
       "12078  ID_8MNXRC6        2010-12-31      2011-12-16    Male  36.0   \n",
       "\n",
       "      First_Transaction_Date  No_Pol Car_Category Subject_Car_Colour  \\\n",
       "0                 2001-12-11       1       Saloon              Black   \n",
       "1                 2002-03-25       1       Saloon              Black   \n",
       "2                 2003-04-13       2       Saloon              Black   \n",
       "3                 2003-12-21       2       Saloon              Black   \n",
       "4                 2005-08-05       1       Saloon              Black   \n",
       "...                      ...     ...          ...                ...   \n",
       "12074             2010-12-31       4       Saloon              Black   \n",
       "12075             2010-12-31       1       Saloon              Black   \n",
       "12076             2010-12-31       1         JEEP              Black   \n",
       "12077             2010-12-31       1         JEEP              Black   \n",
       "12078             2010-12-31       1       Saloon             Silver   \n",
       "\n",
       "      Subject_Car_Make         LGA_Name  State  ProductName  target  \n",
       "0                Honda              NaN    NaN  Car Vintage       0  \n",
       "1               TOYOTA            Ekiti  Benue  Car Classic       0  \n",
       "2               TOYOTA            Ikeja  Lagos  Car Vintage       0  \n",
       "3                  BMW            Ikeja  Lagos  Car Vintage       0  \n",
       "4                 Tata             Ajah  Lagos         CVTP       0  \n",
       "...                ...              ...    ...          ...     ...  \n",
       "12074            Honda  Victoria Island  Lagos  Car Classic       0  \n",
       "12075            Honda  Victoria Island  Lagos  Car Classic       0  \n",
       "12076          Hyundai  Victoria Island  Lagos      CarSafe       0  \n",
       "12077          Hyundai  Victoria Island  Lagos      CarSafe       0  \n",
       "12078              Kia  Anthony Village  Lagos  Car Classic       1  \n",
       "\n",
       "[12079 rows x 14 columns]"
      ]
     },
     "execution_count": 29,
     "metadata": {},
     "output_type": "execute_result"
    }
   ],
   "source": [
    "train = pd.read_csv(\"csv files/front_filled_data.csv\")\n",
    "train"
   ]
  },
  {
   "cell_type": "markdown",
   "metadata": {},
   "source": [
    "## Analytical Questions"
   ]
  },
  {
   "cell_type": "markdown",
   "metadata": {},
   "source": [
    "### Claim Approval Rate per Product Name"
   ]
  },
  {
   "cell_type": "code",
   "execution_count": 31,
   "metadata": {},
   "outputs": [
    {
     "name": "stdout",
     "output_type": "stream",
     "text": [
      "Claim Rate per Product Type (%):\n",
      "ProductName\n",
      "Muuve               69.892473\n",
      "CVTP                25.586354\n",
      "Car Plus            21.193416\n",
      "Motor Cycle         17.391304\n",
      "Car Classic         16.561295\n",
      "CarFlex             16.477273\n",
      "Customized Motor     7.706422\n",
      "CarSafe              0.370959\n",
      "Car Vintage          0.000000\n",
      "Name: target, dtype: float64\n"
     ]
    }
   ],
   "source": [
    "claim_rate = train.groupby(\"ProductName\")[\"target\"].mean().sort_values(ascending=False) * 100\n",
    "print(\"Claim Rate per Product Type (%):\")\n",
    "print(claim_rate)"
   ]
  },
  {
   "cell_type": "markdown",
   "metadata": {},
   "source": [
    "### Volume of Policies per Product Name"
   ]
  },
  {
   "cell_type": "code",
   "execution_count": 33,
   "metadata": {},
   "outputs": [
    {
     "data": {
      "text/plain": [
       "ProductName\n",
       "Car Classic         6485\n",
       "CarSafe             3774\n",
       "Customized Motor     545\n",
       "Car Plus             486\n",
       "CVTP                 469\n",
       "CarFlex              176\n",
       "Muuve                 93\n",
       "Motor Cycle           46\n",
       "Car Vintage            5\n",
       "Name: count, dtype: int64"
      ]
     },
     "execution_count": 33,
     "metadata": {},
     "output_type": "execute_result"
    }
   ],
   "source": [
    "policy_count = train[\"ProductName\"].value_counts()\n",
    "policy_count"
   ]
  },
  {
   "cell_type": "markdown",
   "metadata": {},
   "source": [
    "### Number of Claims"
   ]
  },
  {
   "cell_type": "code",
   "execution_count": 35,
   "metadata": {},
   "outputs": [
    {
     "name": "stdout",
     "output_type": "stream",
     "text": [
      "\n",
      "Total Claims per Product Type:\n",
      "ProductName\n",
      "Car Classic         1074\n",
      "CVTP                 120\n",
      "Car Plus             103\n",
      "Muuve                 65\n",
      "Customized Motor      42\n",
      "CarFlex               29\n",
      "CarSafe               14\n",
      "Motor Cycle            8\n",
      "Name: count, dtype: int64\n"
     ]
    }
   ],
   "source": [
    "claims_by_product = train[train[\"target\"] == 1][\"ProductName\"].value_counts()\n",
    "print(\"\\nTotal Claims per Product Type:\")\n",
    "print(claims_by_product)"
   ]
  },
  {
   "cell_type": "markdown",
   "metadata": {},
   "source": [
    "### No claims"
   ]
  },
  {
   "cell_type": "code",
   "execution_count": null,
   "metadata": {},
   "outputs": [
    {
     "name": "stdout",
     "output_type": "stream",
     "text": [
      "\n",
      "Total Non-Claims per Product Type:\n",
      "ProductName\n",
      "Car Classic         5411\n",
      "CarSafe             3760\n",
      "Customized Motor     503\n",
      "Car Plus             383\n",
      "CVTP                 349\n",
      "CarFlex              147\n",
      "Motor Cycle           38\n",
      "Muuve                 28\n",
      "Car Vintage            5\n",
      "Name: count, dtype: int64\n"
     ]
    }
   ],
   "source": [
    "non_claims_by_product = train[train[\"target\"] == 0][\"ProductName\"].value_counts()\n",
    "print(\"\\nTotal Non-Claims per Product Type:\")\n",
    "print(non_claims_by_product)"
   ]
  },
  {
   "cell_type": "markdown",
   "metadata": {},
   "source": [
    "### Summary"
   ]
  },
  {
   "cell_type": "code",
   "execution_count": null,
   "metadata": {},
   "outputs": [
    {
     "name": "stdout",
     "output_type": "stream",
     "text": [
      "\n",
      "Summary Table per Product Type:\n",
      "                  Total Policies  Total Claims  No Claims  Claim Rate (%)\n",
      "ProductName                                                              \n",
      "Muuve                         93          65.0         28       69.892473\n",
      "CVTP                         469         120.0        349       25.586354\n",
      "Car Plus                     486         103.0        383       21.193416\n",
      "Motor Cycle                   46           8.0         38       17.391304\n",
      "Car Classic                 6485        1074.0       5411       16.561295\n",
      "CarFlex                      176          29.0        147       16.477273\n",
      "Customized Motor             545          42.0        503        7.706422\n",
      "CarSafe                     3774          14.0       3760        0.370959\n",
      "Car Vintage                    5           NaN          5        0.000000\n"
     ]
    }
   ],
   "source": [
    "summary = pd.DataFrame({\n",
    "    \"Total Policies\": train[\"ProductName\"].value_counts(),\n",
    "    \"Total Claims\": train[train[\"target\"] == 1][\"ProductName\"].value_counts(),\n",
    "    \"No Claims\": train[train[\"target\"] == 0][\"ProductName\"].value_counts(),\n",
    "    \"Claim Rate (%)\": train.groupby(\"ProductName\")[\"target\"].mean() * 100\n",
    "}).sort_values(by=\"Claim Rate (%)\", ascending=False)\n",
    "\n",
    "print(\"\\nSummary Table per Product Type:\")\n",
    "print(summary)"
   ]
  }
 ],
 "metadata": {
  "kernelspec": {
   "display_name": "base",
   "language": "python",
   "name": "python3"
  },
  "language_info": {
   "codemirror_mode": {
    "name": "ipython",
    "version": 3
   },
   "file_extension": ".py",
   "mimetype": "text/x-python",
   "name": "python",
   "nbconvert_exporter": "python",
   "pygments_lexer": "ipython3",
   "version": "3.12.7"
  }
 },
 "nbformat": 4,
 "nbformat_minor": 2
}
