{
  "cells": [
    {
      "cell_type": "markdown",
      "metadata": {
        "id": "48S6RVt_jXwp"
      },
      "source": [
        "# AutoInland Vehicle Insurance Claim Challenge StarterNotebook - Python\n",
        "\n",
        "This is a simple starter notebook to get started with the AutoInland Vehicle Insurance Claim Challenge on Zindi.\n",
        "\n",
        "This notebook covers:\n",
        "- Loading the data\n",
        "- Simple EDA and an example of feature enginnering\n",
        "- Data preprocessing and data wrangling\n",
        "- Creating a simple model\n",
        "- Making a submission\n",
        "- Some tips for improving your score"
      ]
    },
    {
      "cell_type": "markdown",
      "metadata": {
        "id": "HdPjBTFdkI7t"
      },
      "source": [
        "### Importing libraries"
      ]
    },
    {
      "cell_type": "code",
      "execution_count": 133,
      "metadata": {
        "id": "8IWFJK2h22yc"
      },
      "outputs": [],
      "source": [
        "import pandas as pd\n",
        "import numpy as np\n",
        "import datetime as dt\n",
        "import seaborn as sns\n",
        "import matplotlib.pyplot as plt\n",
        "from sklearn.metrics import f1_score\n",
        "from sklearn.model_selection import train_test_split\n",
        "from sklearn.ensemble import RandomForestClassifier\n",
        "from sklearn.preprocessing import LabelEncoder\n",
        "from sklearn.metrics import f1_score, precision_score, recall_score, confusion_matrix\n",
        "from sklearn.experimental import enable_iterative_imputer  \n",
        "from sklearn.impute import IterativeImputer\n",
        "from sklearn.impute import KNNImputer\n",
        "\n",
        "import warnings\n",
        "warnings.filterwarnings('ignore')"
      ]
    },
    {
      "cell_type": "markdown",
      "metadata": {
        "id": "9SyQadB9iY8R"
      },
      "source": [
        "### Read files"
      ]
    },
    {
      "cell_type": "code",
      "execution_count": 135,
      "metadata": {
        "id": "MQCvC_XjDzyH"
      },
      "outputs": [],
      "source": [
        "# Load files into a pandas dataframe\n",
        "train = pd.read_csv('./csv files/Train.csv')\n",
        "test = pd.read_csv('./csv files/Test.csv')\n",
        "ss = pd.read_csv('./csv files/SampleSubmission.csv')"
      ]
    },
    {
      "cell_type": "markdown",
      "metadata": {
        "id": "MCP0H7tSicUU"
      },
      "source": [
        "## Eploratory Data Analysis"
      ]
    },
    {
      "cell_type": "code",
      "execution_count": 136,
      "metadata": {
        "colab": {
          "base_uri": "https://localhost:8080/",
          "height": 195
        },
        "id": "Mcqp5mXG22ye",
        "outputId": "a9326a6d-9ea2-4c91-d038-534cc1e4c64f"
      },
      "outputs": [
        {
          "data": {
            "text/html": [
              "<div>\n",
              "<style scoped>\n",
              "    .dataframe tbody tr th:only-of-type {\n",
              "        vertical-align: middle;\n",
              "    }\n",
              "\n",
              "    .dataframe tbody tr th {\n",
              "        vertical-align: top;\n",
              "    }\n",
              "\n",
              "    .dataframe thead th {\n",
              "        text-align: right;\n",
              "    }\n",
              "</style>\n",
              "<table border=\"1\" class=\"dataframe\">\n",
              "  <thead>\n",
              "    <tr style=\"text-align: right;\">\n",
              "      <th></th>\n",
              "      <th>ID</th>\n",
              "      <th>Policy_Start_Date</th>\n",
              "      <th>Policy_End_Date</th>\n",
              "      <th>Gender</th>\n",
              "      <th>Age</th>\n",
              "      <th>First_Transaction_Date</th>\n",
              "      <th>No_Pol</th>\n",
              "      <th>Car_Category</th>\n",
              "      <th>Subject_Car_Colour</th>\n",
              "      <th>Subject_Car_Make</th>\n",
              "      <th>LGA_Name</th>\n",
              "      <th>State</th>\n",
              "      <th>ProductName</th>\n",
              "      <th>target</th>\n",
              "    </tr>\n",
              "  </thead>\n",
              "  <tbody>\n",
              "    <tr>\n",
              "      <th>0</th>\n",
              "      <td>ID_0040R73</td>\n",
              "      <td>2010-05-14</td>\n",
              "      <td>2011-05-13</td>\n",
              "      <td>Male</td>\n",
              "      <td>30</td>\n",
              "      <td>2010-05-14</td>\n",
              "      <td>1</td>\n",
              "      <td>Saloon</td>\n",
              "      <td>Black</td>\n",
              "      <td>TOYOTA</td>\n",
              "      <td>NaN</td>\n",
              "      <td>NaN</td>\n",
              "      <td>Car Classic</td>\n",
              "      <td>0</td>\n",
              "    </tr>\n",
              "    <tr>\n",
              "      <th>1</th>\n",
              "      <td>ID_0046BNK</td>\n",
              "      <td>2010-11-29</td>\n",
              "      <td>2011-11-28</td>\n",
              "      <td>Female</td>\n",
              "      <td>79</td>\n",
              "      <td>2010-11-29</td>\n",
              "      <td>1</td>\n",
              "      <td>JEEP</td>\n",
              "      <td>Grey</td>\n",
              "      <td>TOYOTA</td>\n",
              "      <td>NaN</td>\n",
              "      <td>NaN</td>\n",
              "      <td>Car Classic</td>\n",
              "      <td>1</td>\n",
              "    </tr>\n",
              "    <tr>\n",
              "      <th>2</th>\n",
              "      <td>ID_005QMC3</td>\n",
              "      <td>2010-03-21</td>\n",
              "      <td>2011-03-20</td>\n",
              "      <td>Male</td>\n",
              "      <td>43</td>\n",
              "      <td>2010-03-21</td>\n",
              "      <td>1</td>\n",
              "      <td>Saloon</td>\n",
              "      <td>Red</td>\n",
              "      <td>TOYOTA</td>\n",
              "      <td>NaN</td>\n",
              "      <td>NaN</td>\n",
              "      <td>Car Classic</td>\n",
              "      <td>0</td>\n",
              "    </tr>\n",
              "    <tr>\n",
              "      <th>3</th>\n",
              "      <td>ID_0079OHW</td>\n",
              "      <td>2010-08-21</td>\n",
              "      <td>2011-08-20</td>\n",
              "      <td>Male</td>\n",
              "      <td>2</td>\n",
              "      <td>2010-08-21</td>\n",
              "      <td>1</td>\n",
              "      <td>NaN</td>\n",
              "      <td>NaN</td>\n",
              "      <td>NaN</td>\n",
              "      <td>NaN</td>\n",
              "      <td>NaN</td>\n",
              "      <td>CarSafe</td>\n",
              "      <td>0</td>\n",
              "    </tr>\n",
              "    <tr>\n",
              "      <th>4</th>\n",
              "      <td>ID_00BRP63</td>\n",
              "      <td>2010-08-29</td>\n",
              "      <td>2010-12-31</td>\n",
              "      <td>Entity</td>\n",
              "      <td>20</td>\n",
              "      <td>2010-08-29</td>\n",
              "      <td>3</td>\n",
              "      <td>NaN</td>\n",
              "      <td>NaN</td>\n",
              "      <td>NaN</td>\n",
              "      <td>Lagos</td>\n",
              "      <td>Lagos</td>\n",
              "      <td>Muuve</td>\n",
              "      <td>1</td>\n",
              "    </tr>\n",
              "  </tbody>\n",
              "</table>\n",
              "</div>"
            ],
            "text/plain": [
              "           ID Policy_Start_Date Policy_End_Date  Gender  Age  \\\n",
              "0  ID_0040R73        2010-05-14      2011-05-13    Male   30   \n",
              "1  ID_0046BNK        2010-11-29      2011-11-28  Female   79   \n",
              "2  ID_005QMC3        2010-03-21      2011-03-20    Male   43   \n",
              "3  ID_0079OHW        2010-08-21      2011-08-20    Male    2   \n",
              "4  ID_00BRP63        2010-08-29      2010-12-31  Entity   20   \n",
              "\n",
              "  First_Transaction_Date  No_Pol Car_Category Subject_Car_Colour  \\\n",
              "0             2010-05-14       1       Saloon              Black   \n",
              "1             2010-11-29       1         JEEP               Grey   \n",
              "2             2010-03-21       1       Saloon                Red   \n",
              "3             2010-08-21       1          NaN                NaN   \n",
              "4             2010-08-29       3          NaN                NaN   \n",
              "\n",
              "  Subject_Car_Make LGA_Name  State  ProductName  target  \n",
              "0           TOYOTA      NaN    NaN  Car Classic       0  \n",
              "1           TOYOTA      NaN    NaN  Car Classic       1  \n",
              "2           TOYOTA      NaN    NaN  Car Classic       0  \n",
              "3              NaN      NaN    NaN      CarSafe       0  \n",
              "4              NaN    Lagos  Lagos        Muuve       1  "
            ]
          },
          "execution_count": 136,
          "metadata": {},
          "output_type": "execute_result"
        }
      ],
      "source": [
        "# Preview the first five rows of the train set\n",
        "train.head()"
      ]
    },
    {
      "cell_type": "code",
      "execution_count": 137,
      "metadata": {
        "colab": {
          "base_uri": "https://localhost:8080/",
          "height": 279
        },
        "id": "XADqPrMo22yf",
        "outputId": "b389a03e-c9d5-40a5-886b-7317689c5eb8"
      },
      "outputs": [
        {
          "data": {
            "text/html": [
              "<div>\n",
              "<style scoped>\n",
              "    .dataframe tbody tr th:only-of-type {\n",
              "        vertical-align: middle;\n",
              "    }\n",
              "\n",
              "    .dataframe tbody tr th {\n",
              "        vertical-align: top;\n",
              "    }\n",
              "\n",
              "    .dataframe thead th {\n",
              "        text-align: right;\n",
              "    }\n",
              "</style>\n",
              "<table border=\"1\" class=\"dataframe\">\n",
              "  <thead>\n",
              "    <tr style=\"text-align: right;\">\n",
              "      <th></th>\n",
              "      <th>ID</th>\n",
              "      <th>Policy_Start_Date</th>\n",
              "      <th>Policy_End_Date</th>\n",
              "      <th>Gender</th>\n",
              "      <th>Age</th>\n",
              "      <th>First_Transaction_Date</th>\n",
              "      <th>No_Pol</th>\n",
              "      <th>Car_Category</th>\n",
              "      <th>Subject_Car_Colour</th>\n",
              "      <th>Subject_Car_Make</th>\n",
              "      <th>LGA_Name</th>\n",
              "      <th>State</th>\n",
              "      <th>ProductName</th>\n",
              "    </tr>\n",
              "  </thead>\n",
              "  <tbody>\n",
              "    <tr>\n",
              "      <th>0</th>\n",
              "      <td>ID_01QM0NU</td>\n",
              "      <td>2010-10-23</td>\n",
              "      <td>2011-10-22</td>\n",
              "      <td>Female</td>\n",
              "      <td>46</td>\n",
              "      <td>2010-10-23</td>\n",
              "      <td>1</td>\n",
              "      <td>NaN</td>\n",
              "      <td>NaN</td>\n",
              "      <td>Ford</td>\n",
              "      <td>Abuja Municipal</td>\n",
              "      <td>Abuja-Municipal</td>\n",
              "      <td>Car Classic</td>\n",
              "    </tr>\n",
              "    <tr>\n",
              "      <th>1</th>\n",
              "      <td>ID_024NJLZ</td>\n",
              "      <td>2010-10-14</td>\n",
              "      <td>2011-10-13</td>\n",
              "      <td>Male</td>\n",
              "      <td>32</td>\n",
              "      <td>2010-10-14</td>\n",
              "      <td>1</td>\n",
              "      <td>NaN</td>\n",
              "      <td>NaN</td>\n",
              "      <td>NaN</td>\n",
              "      <td>Kosofe</td>\n",
              "      <td>Benue</td>\n",
              "      <td>Car Classic</td>\n",
              "    </tr>\n",
              "    <tr>\n",
              "      <th>2</th>\n",
              "      <td>ID_02NOVWQ</td>\n",
              "      <td>2010-08-29</td>\n",
              "      <td>2011-08-28</td>\n",
              "      <td>Female</td>\n",
              "      <td>45</td>\n",
              "      <td>2010-08-29</td>\n",
              "      <td>2</td>\n",
              "      <td>Saloon</td>\n",
              "      <td>Black</td>\n",
              "      <td>Honda</td>\n",
              "      <td>Wuse 11</td>\n",
              "      <td>Abuja</td>\n",
              "      <td>Car Classic</td>\n",
              "    </tr>\n",
              "    <tr>\n",
              "      <th>3</th>\n",
              "      <td>ID_02VSP68</td>\n",
              "      <td>2010-06-13</td>\n",
              "      <td>2011-06-12</td>\n",
              "      <td>Female</td>\n",
              "      <td>58</td>\n",
              "      <td>2010-06-13</td>\n",
              "      <td>1</td>\n",
              "      <td>Saloon</td>\n",
              "      <td>NaN</td>\n",
              "      <td>TOYOTA</td>\n",
              "      <td>NaN</td>\n",
              "      <td>NaN</td>\n",
              "      <td>CarSafe</td>\n",
              "    </tr>\n",
              "    <tr>\n",
              "      <th>4</th>\n",
              "      <td>ID_02YB37K</td>\n",
              "      <td>2010-07-01</td>\n",
              "      <td>2011-06-30</td>\n",
              "      <td>NaN</td>\n",
              "      <td>120</td>\n",
              "      <td>2010-07-01</td>\n",
              "      <td>1</td>\n",
              "      <td>Saloon</td>\n",
              "      <td>Red</td>\n",
              "      <td>Hyundai</td>\n",
              "      <td>Victoria Island</td>\n",
              "      <td>Lagos</td>\n",
              "      <td>Car Classic</td>\n",
              "    </tr>\n",
              "  </tbody>\n",
              "</table>\n",
              "</div>"
            ],
            "text/plain": [
              "           ID Policy_Start_Date Policy_End_Date  Gender  Age  \\\n",
              "0  ID_01QM0NU        2010-10-23      2011-10-22  Female   46   \n",
              "1  ID_024NJLZ        2010-10-14      2011-10-13    Male   32   \n",
              "2  ID_02NOVWQ        2010-08-29      2011-08-28  Female   45   \n",
              "3  ID_02VSP68        2010-06-13      2011-06-12  Female   58   \n",
              "4  ID_02YB37K        2010-07-01      2011-06-30     NaN  120   \n",
              "\n",
              "  First_Transaction_Date  No_Pol Car_Category Subject_Car_Colour  \\\n",
              "0             2010-10-23       1          NaN                NaN   \n",
              "1             2010-10-14       1          NaN                NaN   \n",
              "2             2010-08-29       2       Saloon              Black   \n",
              "3             2010-06-13       1       Saloon                NaN   \n",
              "4             2010-07-01       1       Saloon                Red   \n",
              "\n",
              "  Subject_Car_Make         LGA_Name            State  ProductName  \n",
              "0             Ford  Abuja Municipal  Abuja-Municipal  Car Classic  \n",
              "1              NaN           Kosofe            Benue  Car Classic  \n",
              "2            Honda          Wuse 11            Abuja  Car Classic  \n",
              "3           TOYOTA              NaN              NaN      CarSafe  \n",
              "4          Hyundai  Victoria Island            Lagos  Car Classic  "
            ]
          },
          "execution_count": 137,
          "metadata": {},
          "output_type": "execute_result"
        }
      ],
      "source": [
        "# Preview the first five rows of the test set\n",
        "test.head()"
      ]
    },
    {
      "cell_type": "code",
      "execution_count": 138,
      "metadata": {
        "colab": {
          "base_uri": "https://localhost:8080/",
          "height": 446
        },
        "id": "PXnqoSeVJT1w",
        "outputId": "2e408179-ff08-4286-db45-9353556faf50"
      },
      "outputs": [
        {
          "data": {
            "image/png": "[encoded data removed]",
            "text/plain": [
              "<Figure size 1000x700 with 1 Axes>"
            ]
          },
          "metadata": {},
          "output_type": "display_data"
        }
      ],
      "source": [
        "# Check if there any missing values in train set\n",
        "ax = train.isna().sum().sort_values().plot(kind = 'barh', figsize = (10, 7))\n",
        "plt.title('Percentage of Missing Values Per Column in Train Set', fontdict={'size':15})\n",
        "for p in ax.patches:\n",
        "    percentage ='{:,.0f}%'.format((p.get_width()/train.shape[0])*100)\n",
        "    width, height =p.get_width(),p.get_height()\n",
        "    x=p.get_x()+width+0.02\n",
        "    y=p.get_y()+height/2\n",
        "    ax.annotate(percentage,(x,y))"
      ]
    },
    {
      "cell_type": "markdown",
      "metadata": {},
      "source": [
        "## Cleaning Data"
      ]
    },
    {
      "cell_type": "markdown",
      "metadata": {},
      "source": [
        "### Adding other gender to \"Other\""
      ]
    },
    {
      "cell_type": "code",
      "execution_count": 140,
      "metadata": {},
      "outputs": [
        {
          "data": {
            "text/plain": [
              "Gender\n",
              "Male      7617\n",
              "Female    3327\n",
              "Other      776\n",
              "Name: count, dtype: int64"
            ]
          },
          "execution_count": 140,
          "metadata": {},
          "output_type": "execute_result"
        }
      ],
      "source": [
        "mapper = {'Entity':'Other', 'Joint Gender':'Other', 'NOT STATED':'Other', 'NO GENDER': 'Other', 'SEX':\"Other\"}\n",
        "train.Gender = train.Gender.replace(mapper)\n",
        "\n",
        "# Confirm mappings\n",
        "train.Gender.value_counts()"
      ]
    },
    {
      "cell_type": "code",
      "execution_count": 141,
      "metadata": {},
      "outputs": [
        {
          "data": {
            "text/plain": [
              "Gender\n",
              "Male      739\n",
              "Female    352\n",
              "Other      70\n",
              "Name: count, dtype: int64"
            ]
          },
          "execution_count": 141,
          "metadata": {},
          "output_type": "execute_result"
        }
      ],
      "source": [
        "mapper = {'Entity':'Other', 'Joint Gender':'Other', 'NOT STATED':'Other', 'NO GENDER': 'Other', 'SEX':\"Other\"}\n",
        "test.Gender = test.Gender.replace(mapper)\n",
        "\n",
        "# Confirm mappings\n",
        "test.Gender.value_counts()"
      ]
    },
    {
      "cell_type": "markdown",
      "metadata": {},
      "source": [
        "### Change Dates"
      ]
    },
    {
      "cell_type": "code",
      "execution_count": 9,
      "metadata": {},
      "outputs": [],
      "source": [
        "train[\"Policy_Start_Date\"] = pd.to_datetime(train[\"Policy_Start_Date\"])\n",
        "train[\"Policy_Start_Year\"] = train[\"Policy_Start_Date\"].dt.year\n",
        "train[\"Policy_Start_Month\"] = train[\"Policy_Start_Date\"].dt.month\n",
        "train[\"Policy_Start_Day\"] = train[\"Policy_Start_Date\"].dt.day"
      ]
    },
    {
      "cell_type": "code",
      "execution_count": 10,
      "metadata": {},
      "outputs": [],
      "source": [
        "train[\"Policy_End_Date\"] = pd.to_datetime(train[\"Policy_End_Date\"])\n",
        "train[\"Policy_End_Year\"] = train[\"Policy_End_Date\"].dt.year\n",
        "train[\"Policy_End_Month\"] = train[\"Policy_End_Date\"].dt.month\n",
        "train[\"Policy_End_Day\"] = train[\"Policy_End_Date\"].dt.day"
      ]
    },
    {
      "cell_type": "code",
      "execution_count": 11,
      "metadata": {},
      "outputs": [],
      "source": [
        "train[\"First_Transaction_Date\"] = pd.to_datetime(train[\"First_Transaction_Date\"])\n",
        "train[\"First_Transaction_Year\"] = train[\"First_Transaction_Date\"].dt.year\n",
        "train[\"First_Transaction_Month\"] = train[\"First_Transaction_Date\"].dt.year\n",
        "train[\"First_Transaction_Day\"] = train[\"First_Transaction_Date\"].dt.year\n"
      ]
    },
    {
      "cell_type": "code",
      "execution_count": null,
      "metadata": {},
      "outputs": [],
      "source": [
        "train = train.drop([\"Policy Start Date\", \"Policy End Date\", \"First Transaction Date\"], axis=1)"
      ]
    },
    {
      "cell_type": "code",
      "execution_count": null,
      "metadata": {},
      "outputs": [],
      "source": [
        "test[\"Policy_Start_Date\"] = pd.to_datetime(test[\"Policy_Start_Date\"])\n",
        "test[\"Policy_Start_Year\"] = test[\"Policy_Start_Date\"].dt.year\n",
        "test[\"Policy_Start_Month\"] = test[\"Policy_Start_Date\"].dt.month\n",
        "test[\"Policy_Start_Day\"] = test[\"Policy_Start_Date\"].dt.day"
      ]
    },
    {
      "cell_type": "code",
      "execution_count": null,
      "metadata": {},
      "outputs": [],
      "source": [
        "test[\"Policy_End_Date\"] = pd.to_datetime(test[\"Policy_End_Date\"])\n",
        "test[\"Policy_End_Year\"] = test[\"Policy_End_Date\"].dt.year\n",
        "test[\"Policy_End_Month\"] = test[\"Policy_End_Date\"].dt.month\n",
        "test[\"Policy_End_Day\"] = test[\"Policy_End_Date\"].dt.day"
      ]
    },
    {
      "cell_type": "code",
      "execution_count": null,
      "metadata": {},
      "outputs": [],
      "source": [
        "test[\"First_Transaction_Date\"] = pd.to_datetime(test[\"First_Transaction_Date\"])\n",
        "test[\"First_Transaction_Year\"] = test[\"First_Transaction_Date\"].dt.year\n",
        "test[\"First_Transaction_Month\"] = test[\"First_Transaction_Date\"].dt.year\n",
        "test[\"First_Transaction_Day\"] = test[\"First_Transaction_Date\"].dt.year"
      ]
    },
    {
      "cell_type": "code",
      "execution_count": null,
      "metadata": {},
      "outputs": [],
      "source": [
        "test = test.drop([\"Policy Start Date\", \"Policy End Date\", \"First Transaction Date\"], axis=1)"
      ]
    },
    {
      "cell_type": "code",
      "execution_count": null,
      "metadata": {},
      "outputs": [],
      "source": [
        "target = \"target\"\n",
        "train = train [[col for col in train.columns if col != target] + [target]]"
      ]
    },
    {
      "cell_type": "markdown",
      "metadata": {},
      "source": [
        "### Using mode based imputation on gender**"
      ]
    },
    {
      "cell_type": "code",
      "execution_count": 145,
      "metadata": {},
      "outputs": [],
      "source": [
        "train['Gender'] = train['Gender'].fillna(train['Gender'].mode()[0])"
      ]
    },
    {
      "cell_type": "code",
      "execution_count": 146,
      "metadata": {},
      "outputs": [],
      "source": [
        "test['Gender'] = test['Gender'].fillna(test['Gender'].mode()[0])"
      ]
    },
    {
      "cell_type": "markdown",
      "metadata": {},
      "source": [
        "### Imputing age"
      ]
    },
    {
      "cell_type": "code",
      "execution_count": 150,
      "metadata": {},
      "outputs": [],
      "source": [
        "def clean_age(age):\n",
        "    if pd.isna(age) or age < 0 or age > 100:\n",
        "        return np.nan\n",
        "    return age\n",
        "\n",
        "train['Age'] = train['Age'].apply(clean_age)\n",
        "test['Age'] = test['Age'].apply(clean_age)\n",
        "\n",
        "\n",
        "age_average = train['Age'].mean()\n",
        "age_average_test = test['Age'].mean()\n",
        "\n",
        "train['Age'].fillna(age_average, inplace=True)\n",
        "test['Age'].fillna(age_average_test, inplace=True)"
      ]
    },
    {
      "cell_type": "markdown",
      "metadata": {},
      "source": [
        "### Sorting the date"
      ]
    },
    {
      "cell_type": "code",
      "execution_count": 151,
      "metadata": {},
      "outputs": [],
      "source": [
        "train = train.sort_values(by='Policy_Start_Date')"
      ]
    },
    {
      "cell_type": "markdown",
      "metadata": {},
      "source": [
        "### Using Bacck_fill method"
      ]
    },
    {
      "cell_type": "code",
      "execution_count": 92,
      "metadata": {},
      "outputs": [
        {
          "name": "stdout",
          "output_type": "stream",
          "text": [
            "Original Data:\n",
            "               ID Policy_Start_Date Policy_End_Date  Gender   Age  \\\n",
            "8010   ID_O51ZQ1B        2001-12-11      2011-12-10  Female  37.0   \n",
            "10526  ID_VJ1FAVO        2002-03-25      2011-03-24    Male  37.0   \n",
            "10234  ID_ULWS8VL        2003-04-13      2011-04-12    Male  41.0   \n",
            "12066  ID_ZYKGSP7        2003-12-21      2034-05-20    Male  48.0   \n",
            "8124   ID_OEWBKGF        2005-08-05      2011-09-29  Female  44.0   \n",
            "...           ...               ...             ...     ...   ...   \n",
            "7479   ID_MLGO8DZ        2010-12-31      2011-06-30    Male  51.0   \n",
            "1997   ID_62LBOWI        2010-12-31      2011-12-30    Male  44.0   \n",
            "11299  ID_XR8F115        2010-12-31      2011-12-30    Male  37.0   \n",
            "2919   ID_8P2UGYO        2010-12-31      2011-12-30    Male  20.0   \n",
            "2886   ID_8MNXRC6        2010-12-31      2011-12-16    Male  36.0   \n",
            "\n",
            "      First_Transaction_Date  No_Pol Car_Category Subject_Car_Colour  \\\n",
            "8010              2001-12-11       1       Saloon              Black   \n",
            "10526             2002-03-25       1       Saloon              Black   \n",
            "10234             2003-04-13       2       Saloon              Black   \n",
            "12066             2003-12-21       2       Saloon               Gold   \n",
            "8124              2005-08-05       1       Saloon               Gold   \n",
            "...                      ...     ...          ...                ...   \n",
            "7479              2010-12-31       4       Saloon              Black   \n",
            "1997              2010-12-31       1         JEEP             Silver   \n",
            "11299             2010-12-31       1         JEEP             Silver   \n",
            "2919              2010-12-31       1       Saloon             Silver   \n",
            "2886              2010-12-31       1       Saloon             Silver   \n",
            "\n",
            "      Subject_Car_Make         LGA_Name  State  ProductName  target  \n",
            "8010             Honda            Ekiti  Benue  Car Vintage       0  \n",
            "10526           TOYOTA            Ekiti  Benue  Car Classic       0  \n",
            "10234           TOYOTA            Ikeja  Lagos  Car Vintage       0  \n",
            "12066              BMW             Ajah  Lagos  Car Vintage       0  \n",
            "8124              Tata             Ajah  Lagos         CVTP       0  \n",
            "...                ...              ...    ...          ...     ...  \n",
            "7479             Honda  Victoria Island  Lagos  Car Classic       0  \n",
            "1997           Hyundai  Victoria Island  Lagos  Car Classic       0  \n",
            "11299          Hyundai  Anthony Village  Lagos      CarSafe       0  \n",
            "2919               Kia  Anthony Village  Lagos      CarSafe       0  \n",
            "2886               Kia  Anthony Village  Lagos  Car Classic       1  \n",
            "\n",
            "[12079 rows x 14 columns]\n",
            "\n",
            "Backfilled Data:\n",
            "               ID Policy_Start_Date Policy_End_Date  Gender   Age  \\\n",
            "8010   ID_O51ZQ1B        2001-12-11      2011-12-10  Female  37.0   \n",
            "10526  ID_VJ1FAVO        2002-03-25      2011-03-24    Male  37.0   \n",
            "10234  ID_ULWS8VL        2003-04-13      2011-04-12    Male  41.0   \n",
            "12066  ID_ZYKGSP7        2003-12-21      2034-05-20    Male  48.0   \n",
            "8124   ID_OEWBKGF        2005-08-05      2011-09-29  Female  44.0   \n",
            "...           ...               ...             ...     ...   ...   \n",
            "7479   ID_MLGO8DZ        2010-12-31      2011-06-30    Male  51.0   \n",
            "1997   ID_62LBOWI        2010-12-31      2011-12-30    Male  44.0   \n",
            "11299  ID_XR8F115        2010-12-31      2011-12-30    Male  37.0   \n",
            "2919   ID_8P2UGYO        2010-12-31      2011-12-30    Male  20.0   \n",
            "2886   ID_8MNXRC6        2010-12-31      2011-12-16    Male  36.0   \n",
            "\n",
            "      First_Transaction_Date  No_Pol Car_Category Subject_Car_Colour  \\\n",
            "8010              2001-12-11       1       Saloon              Black   \n",
            "10526             2002-03-25       1       Saloon              Black   \n",
            "10234             2003-04-13       2       Saloon              Black   \n",
            "12066             2003-12-21       2       Saloon               Gold   \n",
            "8124              2005-08-05       1       Saloon               Gold   \n",
            "...                      ...     ...          ...                ...   \n",
            "7479              2010-12-31       4       Saloon              Black   \n",
            "1997              2010-12-31       1         JEEP             Silver   \n",
            "11299             2010-12-31       1         JEEP             Silver   \n",
            "2919              2010-12-31       1       Saloon             Silver   \n",
            "2886              2010-12-31       1       Saloon             Silver   \n",
            "\n",
            "      Subject_Car_Make         LGA_Name  State  ProductName  target  \n",
            "8010             Honda            Ekiti  Benue  Car Vintage       0  \n",
            "10526           TOYOTA            Ekiti  Benue  Car Classic       0  \n",
            "10234           TOYOTA            Ikeja  Lagos  Car Vintage       0  \n",
            "12066              BMW             Ajah  Lagos  Car Vintage       0  \n",
            "8124              Tata             Ajah  Lagos         CVTP       0  \n",
            "...                ...              ...    ...          ...     ...  \n",
            "7479             Honda  Victoria Island  Lagos  Car Classic       0  \n",
            "1997           Hyundai  Victoria Island  Lagos  Car Classic       0  \n",
            "11299          Hyundai  Anthony Village  Lagos      CarSafe       0  \n",
            "2919               Kia  Anthony Village  Lagos      CarSafe       0  \n",
            "2886               Kia  Anthony Village  Lagos  Car Classic       1  \n",
            "\n",
            "[12079 rows x 14 columns]\n"
          ]
        }
      ],
      "source": [
        "def backfill_data(data, columns):\n",
        "    for column in columns:\n",
        "        data[column] = data[column].fillna(method='bfill')\n",
        "    return data\n",
        "\n",
        "                   \n",
        "backfill_columns = ['Car_Category', 'Subject_Car_Colour', 'Subject_Car_Make', 'LGA_Name', 'State']\n",
        "    \n",
        "backfilled_data = backfill_data(train, backfill_columns)\n",
        "\n",
        "print(\"Original Data:\")\n",
        "print(train)\n",
        "print(\"\\nBackfilled Data:\")\n",
        "print(backfilled_data)\n",
        "\n",
        "# backfilled_data.to_csv('./csv files/backfilled_data.csv', index=False)"
      ]
    },
    {
      "cell_type": "code",
      "execution_count": 59,
      "metadata": {},
      "outputs": [
        {
          "name": "stdout",
          "output_type": "stream",
          "text": [
            "Original Data:\n",
            "              ID Policy_Start_Date Policy_End_Date  Gender        Age  \\\n",
            "0     ID_01QM0NU        2010-10-23      2011-10-22  Female  46.000000   \n",
            "1     ID_024NJLZ        2010-10-14      2011-10-13    Male  32.000000   \n",
            "2     ID_02NOVWQ        2010-08-29      2011-08-28  Female  45.000000   \n",
            "3     ID_02VSP68        2010-06-13      2011-06-12  Female  58.000000   \n",
            "4     ID_02YB37K        2010-07-01      2011-06-30    Male  41.319241   \n",
            "...          ...               ...             ...     ...        ...   \n",
            "1197  ID_ZTTHC5X        2010-12-05      2011-12-04    Male  67.000000   \n",
            "1198  ID_ZUJAFUP        2010-01-14      2011-01-13    Male  43.000000   \n",
            "1199  ID_ZWHCTUM        2010-07-26      2011-07-25    Male  30.000000   \n",
            "1200  ID_ZWQRL8L        2010-02-16      2011-02-15    Male  44.000000   \n",
            "1201  ID_ZWZ92GU        2010-03-18      2011-03-17    Male  28.000000   \n",
            "\n",
            "     First_Transaction_Date  No_Pol Car_Category Subject_Car_Colour  \\\n",
            "0                2010-10-23       1       Saloon              Black   \n",
            "1                2010-10-14       1       Saloon              Black   \n",
            "2                2010-08-29       2       Saloon              Black   \n",
            "3                2010-06-13       1       Saloon                Red   \n",
            "4                2010-07-01       1       Saloon                Red   \n",
            "...                     ...     ...          ...                ...   \n",
            "1197             2010-12-05       2         JEEP              Black   \n",
            "1198             2010-01-14       1       Saloon             Silver   \n",
            "1199             2010-07-26       1        Truck              White   \n",
            "1200             2010-02-16       2       Saloon             Silver   \n",
            "1201             2010-03-18       1       Saloon             Silver   \n",
            "\n",
            "     Subject_Car_Make         LGA_Name            State  ProductName  \n",
            "0                Ford  Abuja Municipal  Abuja-Municipal  Car Classic  \n",
            "1               Honda           Kosofe            Benue  Car Classic  \n",
            "2               Honda          Wuse 11            Abuja  Car Classic  \n",
            "3              TOYOTA  Victoria Island            Lagos      CarSafe  \n",
            "4             Hyundai  Victoria Island            Lagos  Car Classic  \n",
            "...               ...              ...              ...          ...  \n",
            "1197           TOYOTA  Victoria Island            Lagos  Car Classic  \n",
            "1198          Hyundai         Surulere            Lagos  Car Classic  \n",
            "1199            Iveco  Victoria Island            Lagos         CVTP  \n",
            "1200           Nissan        Aba North        Aba-North  Car Classic  \n",
            "1201           TOYOTA              NaN              NaN  Car Classic  \n",
            "\n",
            "[1202 rows x 13 columns]\n",
            "\n",
            "Backfilled Data:\n",
            "              ID Policy_Start_Date Policy_End_Date  Gender        Age  \\\n",
            "0     ID_01QM0NU        2010-10-23      2011-10-22  Female  46.000000   \n",
            "1     ID_024NJLZ        2010-10-14      2011-10-13    Male  32.000000   \n",
            "2     ID_02NOVWQ        2010-08-29      2011-08-28  Female  45.000000   \n",
            "3     ID_02VSP68        2010-06-13      2011-06-12  Female  58.000000   \n",
            "4     ID_02YB37K        2010-07-01      2011-06-30    Male  41.319241   \n",
            "...          ...               ...             ...     ...        ...   \n",
            "1197  ID_ZTTHC5X        2010-12-05      2011-12-04    Male  67.000000   \n",
            "1198  ID_ZUJAFUP        2010-01-14      2011-01-13    Male  43.000000   \n",
            "1199  ID_ZWHCTUM        2010-07-26      2011-07-25    Male  30.000000   \n",
            "1200  ID_ZWQRL8L        2010-02-16      2011-02-15    Male  44.000000   \n",
            "1201  ID_ZWZ92GU        2010-03-18      2011-03-17    Male  28.000000   \n",
            "\n",
            "     First_Transaction_Date  No_Pol Car_Category Subject_Car_Colour  \\\n",
            "0                2010-10-23       1       Saloon              Black   \n",
            "1                2010-10-14       1       Saloon              Black   \n",
            "2                2010-08-29       2       Saloon              Black   \n",
            "3                2010-06-13       1       Saloon                Red   \n",
            "4                2010-07-01       1       Saloon                Red   \n",
            "...                     ...     ...          ...                ...   \n",
            "1197             2010-12-05       2         JEEP              Black   \n",
            "1198             2010-01-14       1       Saloon             Silver   \n",
            "1199             2010-07-26       1        Truck              White   \n",
            "1200             2010-02-16       2       Saloon             Silver   \n",
            "1201             2010-03-18       1       Saloon             Silver   \n",
            "\n",
            "     Subject_Car_Make         LGA_Name            State  ProductName  \n",
            "0                Ford  Abuja Municipal  Abuja-Municipal  Car Classic  \n",
            "1               Honda           Kosofe            Benue  Car Classic  \n",
            "2               Honda          Wuse 11            Abuja  Car Classic  \n",
            "3              TOYOTA  Victoria Island            Lagos      CarSafe  \n",
            "4             Hyundai  Victoria Island            Lagos  Car Classic  \n",
            "...               ...              ...              ...          ...  \n",
            "1197           TOYOTA  Victoria Island            Lagos  Car Classic  \n",
            "1198          Hyundai         Surulere            Lagos  Car Classic  \n",
            "1199            Iveco  Victoria Island            Lagos         CVTP  \n",
            "1200           Nissan        Aba North        Aba-North  Car Classic  \n",
            "1201           TOYOTA              NaN              NaN  Car Classic  \n",
            "\n",
            "[1202 rows x 13 columns]\n"
          ]
        }
      ],
      "source": [
        "def backfill_data(data, columns):\n",
        "    for column in columns:\n",
        "        data[column] = data[column].fillna(method='bfill')\n",
        "    return data\n",
        "\n",
        "                   \n",
        "backfill_columns = ['Car_Category', 'Subject_Car_Colour', 'Subject_Car_Make', 'LGA_Name', 'State']\n",
        "    \n",
        "backfilled_data = backfill_data(test, backfill_columns)\n",
        "\n",
        "print(\"Original Data:\")\n",
        "print(test)\n",
        "print(\"\\nBackfilled Data:\")\n",
        "print(backfilled_data)\n",
        "\n",
        "backfilled_data.to_csv('./csv files/backfilled_data.csv', index=False)"
      ]
    },
    {
      "cell_type": "markdown",
      "metadata": {},
      "source": [
        "### Using Front_fill method"
      ]
    },
    {
      "cell_type": "code",
      "execution_count": 152,
      "metadata": {},
      "outputs": [
        {
          "name": "stdout",
          "output_type": "stream",
          "text": [
            "Original Data:\n",
            "               ID Policy_Start_Date Policy_End_Date  Gender   Age  \\\n",
            "8010   ID_O51ZQ1B        2001-12-11      2011-12-10  Female  37.0   \n",
            "10526  ID_VJ1FAVO        2002-03-25      2011-03-24    Male  37.0   \n",
            "10234  ID_ULWS8VL        2003-04-13      2011-04-12    Male  41.0   \n",
            "12066  ID_ZYKGSP7        2003-12-21      2034-05-20    Male  48.0   \n",
            "8124   ID_OEWBKGF        2005-08-05      2011-09-29  Female  44.0   \n",
            "...           ...               ...             ...     ...   ...   \n",
            "7479   ID_MLGO8DZ        2010-12-31      2011-06-30    Male  51.0   \n",
            "1997   ID_62LBOWI        2010-12-31      2011-12-30    Male  44.0   \n",
            "11299  ID_XR8F115        2010-12-31      2011-12-30    Male  37.0   \n",
            "2919   ID_8P2UGYO        2010-12-31      2011-12-30    Male  20.0   \n",
            "2886   ID_8MNXRC6        2010-12-31      2011-12-16    Male  36.0   \n",
            "\n",
            "      First_Transaction_Date  No_Pol Car_Category Subject_Car_Colour  \\\n",
            "8010              2001-12-11       1       Saloon              Black   \n",
            "10526             2002-03-25       1       Saloon              Black   \n",
            "10234             2003-04-13       2       Saloon              Black   \n",
            "12066             2003-12-21       2       Saloon              Black   \n",
            "8124              2005-08-05       1       Saloon              Black   \n",
            "...                      ...     ...          ...                ...   \n",
            "7479              2010-12-31       4       Saloon              Black   \n",
            "1997              2010-12-31       1       Saloon              Black   \n",
            "11299             2010-12-31       1         JEEP              Black   \n",
            "2919              2010-12-31       1         JEEP              Black   \n",
            "2886              2010-12-31       1       Saloon             Silver   \n",
            "\n",
            "      Subject_Car_Make         LGA_Name  State  ProductName  target  \n",
            "8010             Honda              NaN    NaN  Car Vintage       0  \n",
            "10526           TOYOTA            Ekiti  Benue  Car Classic       0  \n",
            "10234           TOYOTA            Ikeja  Lagos  Car Vintage       0  \n",
            "12066              BMW            Ikeja  Lagos  Car Vintage       0  \n",
            "8124              Tata             Ajah  Lagos         CVTP       0  \n",
            "...                ...              ...    ...          ...     ...  \n",
            "7479             Honda  Victoria Island  Lagos  Car Classic       0  \n",
            "1997             Honda  Victoria Island  Lagos  Car Classic       0  \n",
            "11299          Hyundai  Victoria Island  Lagos      CarSafe       0  \n",
            "2919           Hyundai  Victoria Island  Lagos      CarSafe       0  \n",
            "2886               Kia  Anthony Village  Lagos  Car Classic       1  \n",
            "\n",
            "[12079 rows x 14 columns]\n",
            "\n",
            "Backfilled Data:\n",
            "               ID Policy_Start_Date Policy_End_Date  Gender   Age  \\\n",
            "8010   ID_O51ZQ1B        2001-12-11      2011-12-10  Female  37.0   \n",
            "10526  ID_VJ1FAVO        2002-03-25      2011-03-24    Male  37.0   \n",
            "10234  ID_ULWS8VL        2003-04-13      2011-04-12    Male  41.0   \n",
            "12066  ID_ZYKGSP7        2003-12-21      2034-05-20    Male  48.0   \n",
            "8124   ID_OEWBKGF        2005-08-05      2011-09-29  Female  44.0   \n",
            "...           ...               ...             ...     ...   ...   \n",
            "7479   ID_MLGO8DZ        2010-12-31      2011-06-30    Male  51.0   \n",
            "1997   ID_62LBOWI        2010-12-31      2011-12-30    Male  44.0   \n",
            "11299  ID_XR8F115        2010-12-31      2011-12-30    Male  37.0   \n",
            "2919   ID_8P2UGYO        2010-12-31      2011-12-30    Male  20.0   \n",
            "2886   ID_8MNXRC6        2010-12-31      2011-12-16    Male  36.0   \n",
            "\n",
            "      First_Transaction_Date  No_Pol Car_Category Subject_Car_Colour  \\\n",
            "8010              2001-12-11       1       Saloon              Black   \n",
            "10526             2002-03-25       1       Saloon              Black   \n",
            "10234             2003-04-13       2       Saloon              Black   \n",
            "12066             2003-12-21       2       Saloon              Black   \n",
            "8124              2005-08-05       1       Saloon              Black   \n",
            "...                      ...     ...          ...                ...   \n",
            "7479              2010-12-31       4       Saloon              Black   \n",
            "1997              2010-12-31       1       Saloon              Black   \n",
            "11299             2010-12-31       1         JEEP              Black   \n",
            "2919              2010-12-31       1         JEEP              Black   \n",
            "2886              2010-12-31       1       Saloon             Silver   \n",
            "\n",
            "      Subject_Car_Make         LGA_Name  State  ProductName  target  \n",
            "8010             Honda              NaN    NaN  Car Vintage       0  \n",
            "10526           TOYOTA            Ekiti  Benue  Car Classic       0  \n",
            "10234           TOYOTA            Ikeja  Lagos  Car Vintage       0  \n",
            "12066              BMW            Ikeja  Lagos  Car Vintage       0  \n",
            "8124              Tata             Ajah  Lagos         CVTP       0  \n",
            "...                ...              ...    ...          ...     ...  \n",
            "7479             Honda  Victoria Island  Lagos  Car Classic       0  \n",
            "1997             Honda  Victoria Island  Lagos  Car Classic       0  \n",
            "11299          Hyundai  Victoria Island  Lagos      CarSafe       0  \n",
            "2919           Hyundai  Victoria Island  Lagos      CarSafe       0  \n",
            "2886               Kia  Anthony Village  Lagos  Car Classic       1  \n",
            "\n",
            "[12079 rows x 14 columns]\n"
          ]
        }
      ],
      "source": [
        "def front_fill_data(data, columns):\n",
        "    for column in columns:\n",
        "        data[column] = data[column].fillna(method='ffill')\n",
        "    return data\n",
        "\n",
        "front_fill_columns = ['Car_Category', 'Subject_Car_Colour', 'Subject_Car_Make', 'LGA_Name', 'State']\n",
        "\n",
        "front_filled_data = front_fill_data(train, front_fill_columns)\n",
        "\n",
        "print(\"Original Data:\")\n",
        "print(train)\n",
        "print(\"\\nBackfilled Data:\")\n",
        "print(front_filled_data)\n",
        "front_filled_data.to_csv('front_filled_data.csv', index=False)"
      ]
    },
    {
      "cell_type": "code",
      "execution_count": 153,
      "metadata": {},
      "outputs": [],
      "source": [
        "test = test.sort_values(by='Policy_Start_Date')"
      ]
    },
    {
      "cell_type": "code",
      "execution_count": 154,
      "metadata": {},
      "outputs": [
        {
          "name": "stdout",
          "output_type": "stream",
          "text": [
            "Original Data:\n",
            "              ID Policy_Start_Date Policy_End_Date  Gender        Age  \\\n",
            "195   ID_6JEYVLP        2010-01-01      2010-12-31    Male  35.000000   \n",
            "379   ID_BX1PNZ6        2010-01-01      2011-05-31   Other  93.000000   \n",
            "248   ID_83NJU2D        2010-01-01      2010-12-31    Male  41.319241   \n",
            "882   ID_Q6GKOAQ        2010-01-02      2011-01-01  Female  45.000000   \n",
            "1092  ID_WB3E64W        2010-01-02      2011-01-01    Male  66.000000   \n",
            "...          ...               ...             ...     ...        ...   \n",
            "116   ID_3VAANJU        2010-12-30      2011-12-29  Female  41.000000   \n",
            "307   ID_A1YSYCA        2010-12-30      2011-12-29    Male  45.000000   \n",
            "1115  ID_X7F8710        2010-12-31      2011-12-30    Male  38.000000   \n",
            "781   ID_MZPS3W5        2010-12-31      2011-07-10    Male  34.000000   \n",
            "1047  ID_V1RSMQM        2010-12-31      2011-12-30    Male  51.000000   \n",
            "\n",
            "     First_Transaction_Date  No_Pol Car_Category Subject_Car_Colour  \\\n",
            "195              2010-01-01       1         JEEP                NaN   \n",
            "379              2010-01-01       7         JEEP        As Attached   \n",
            "248              2010-01-01       4         JEEP        As Attached   \n",
            "882              2010-01-02       1         JEEP              White   \n",
            "1092             2010-01-02       1       Saloon              White   \n",
            "...                     ...     ...          ...                ...   \n",
            "116              2010-12-30       1       Saloon              White   \n",
            "307              2010-12-30       1       Saloon              White   \n",
            "1115             2010-12-31       3       Saloon             Silver   \n",
            "781              2010-12-31       1       Saloon        As Attached   \n",
            "1047             2010-12-31       1       Saloon              Brown   \n",
            "\n",
            "     Subject_Car_Make         LGA_Name       State  ProductName  \n",
            "195             ACURA              NaN         NaN      CarSafe  \n",
            "379             Honda     Lagos Island       Lagos      CarSafe  \n",
            "248                 .  Victoria Island       Lagos        Muuve  \n",
            "882              Ford  Victoria Island       Lagos  Car Classic  \n",
            "1092           TOYOTA  Victoria Island       Lagos      CarSafe  \n",
            "...               ...              ...         ...          ...  \n",
            "116             Honda         Surulere       Lagos  Car Classic  \n",
            "307             Honda         Surulere       Lagos      CarSafe  \n",
            "1115          Hyundai       Obia/Akpor  Obia-Akpor  Car Classic  \n",
            "781            TOYOTA          Onitsha     Anambra  Car Classic  \n",
            "1047      Range Rover  Victoria Island       Lagos  Car Classic  \n",
            "\n",
            "[1202 rows x 13 columns]\n",
            "\n",
            "Backfilled Data:\n",
            "              ID Policy_Start_Date Policy_End_Date  Gender        Age  \\\n",
            "195   ID_6JEYVLP        2010-01-01      2010-12-31    Male  35.000000   \n",
            "379   ID_BX1PNZ6        2010-01-01      2011-05-31   Other  93.000000   \n",
            "248   ID_83NJU2D        2010-01-01      2010-12-31    Male  41.319241   \n",
            "882   ID_Q6GKOAQ        2010-01-02      2011-01-01  Female  45.000000   \n",
            "1092  ID_WB3E64W        2010-01-02      2011-01-01    Male  66.000000   \n",
            "...          ...               ...             ...     ...        ...   \n",
            "116   ID_3VAANJU        2010-12-30      2011-12-29  Female  41.000000   \n",
            "307   ID_A1YSYCA        2010-12-30      2011-12-29    Male  45.000000   \n",
            "1115  ID_X7F8710        2010-12-31      2011-12-30    Male  38.000000   \n",
            "781   ID_MZPS3W5        2010-12-31      2011-07-10    Male  34.000000   \n",
            "1047  ID_V1RSMQM        2010-12-31      2011-12-30    Male  51.000000   \n",
            "\n",
            "     First_Transaction_Date  No_Pol Car_Category Subject_Car_Colour  \\\n",
            "195              2010-01-01       1         JEEP                NaN   \n",
            "379              2010-01-01       7         JEEP        As Attached   \n",
            "248              2010-01-01       4         JEEP        As Attached   \n",
            "882              2010-01-02       1         JEEP              White   \n",
            "1092             2010-01-02       1       Saloon              White   \n",
            "...                     ...     ...          ...                ...   \n",
            "116              2010-12-30       1       Saloon              White   \n",
            "307              2010-12-30       1       Saloon              White   \n",
            "1115             2010-12-31       3       Saloon             Silver   \n",
            "781              2010-12-31       1       Saloon        As Attached   \n",
            "1047             2010-12-31       1       Saloon              Brown   \n",
            "\n",
            "     Subject_Car_Make         LGA_Name       State  ProductName  \n",
            "195             ACURA              NaN         NaN      CarSafe  \n",
            "379             Honda     Lagos Island       Lagos      CarSafe  \n",
            "248                 .  Victoria Island       Lagos        Muuve  \n",
            "882              Ford  Victoria Island       Lagos  Car Classic  \n",
            "1092           TOYOTA  Victoria Island       Lagos      CarSafe  \n",
            "...               ...              ...         ...          ...  \n",
            "116             Honda         Surulere       Lagos  Car Classic  \n",
            "307             Honda         Surulere       Lagos      CarSafe  \n",
            "1115          Hyundai       Obia/Akpor  Obia-Akpor  Car Classic  \n",
            "781            TOYOTA          Onitsha     Anambra  Car Classic  \n",
            "1047      Range Rover  Victoria Island       Lagos  Car Classic  \n",
            "\n",
            "[1202 rows x 13 columns]\n"
          ]
        }
      ],
      "source": [
        "def front_fill_data(data, columns):\n",
        "    for column in columns:\n",
        "        data[column] = data[column].fillna(method='ffill')\n",
        "    return data\n",
        "\n",
        "front_fill_columns = ['Car_Category', 'Subject_Car_Colour', 'Subject_Car_Make', 'LGA_Name', 'State']\n",
        "\n",
        "front_filled_data = front_fill_data(test, front_fill_columns)\n",
        "\n",
        "print(\"Original Data:\")\n",
        "print(test)\n",
        "print(\"\\nBackfilled Data:\")\n",
        "print(front_filled_data)"
      ]
    },
    {
      "cell_type": "code",
      "execution_count": 161,
      "metadata": {},
      "outputs": [
        {
          "data": {
            "text/plain": [
              "ID                        0\n",
              "Policy_Start_Date         0\n",
              "Policy_End_Date           0\n",
              "Gender                    0\n",
              "Age                       0\n",
              "First_Transaction_Date    0\n",
              "No_Pol                    0\n",
              "Car_Category              0\n",
              "Subject_Car_Colour        0\n",
              "Subject_Car_Make          0\n",
              "LGA_Name                  0\n",
              "State                     0\n",
              "ProductName               0\n",
              "target                    0\n",
              "dtype: int64"
            ]
          },
          "execution_count": 161,
          "metadata": {},
          "output_type": "execute_result"
        }
      ],
      "source": [
        "train.isnull().sum()"
      ]
    },
    {
      "cell_type": "code",
      "execution_count": 157,
      "metadata": {},
      "outputs": [
        {
          "data": {
            "text/html": [
              "<div>\n",
              "<style scoped>\n",
              "    .dataframe tbody tr th:only-of-type {\n",
              "        vertical-align: middle;\n",
              "    }\n",
              "\n",
              "    .dataframe tbody tr th {\n",
              "        vertical-align: top;\n",
              "    }\n",
              "\n",
              "    .dataframe thead th {\n",
              "        text-align: right;\n",
              "    }\n",
              "</style>\n",
              "<table border=\"1\" class=\"dataframe\">\n",
              "  <thead>\n",
              "    <tr style=\"text-align: right;\">\n",
              "      <th></th>\n",
              "      <th>ID</th>\n",
              "      <th>Policy_Start_Date</th>\n",
              "      <th>Policy_End_Date</th>\n",
              "      <th>Gender</th>\n",
              "      <th>Age</th>\n",
              "      <th>First_Transaction_Date</th>\n",
              "      <th>No_Pol</th>\n",
              "      <th>Car_Category</th>\n",
              "      <th>Subject_Car_Colour</th>\n",
              "      <th>Subject_Car_Make</th>\n",
              "      <th>LGA_Name</th>\n",
              "      <th>State</th>\n",
              "      <th>ProductName</th>\n",
              "      <th>target</th>\n",
              "    </tr>\n",
              "  </thead>\n",
              "  <tbody>\n",
              "    <tr>\n",
              "      <th>8010</th>\n",
              "      <td>ID_O51ZQ1B</td>\n",
              "      <td>2001-12-11</td>\n",
              "      <td>2011-12-10</td>\n",
              "      <td>Female</td>\n",
              "      <td>37.0</td>\n",
              "      <td>2001-12-11</td>\n",
              "      <td>1</td>\n",
              "      <td>Saloon</td>\n",
              "      <td>Black</td>\n",
              "      <td>Honda</td>\n",
              "      <td>NaN</td>\n",
              "      <td>NaN</td>\n",
              "      <td>Car Vintage</td>\n",
              "      <td>0</td>\n",
              "    </tr>\n",
              "    <tr>\n",
              "      <th>10526</th>\n",
              "      <td>ID_VJ1FAVO</td>\n",
              "      <td>2002-03-25</td>\n",
              "      <td>2011-03-24</td>\n",
              "      <td>Male</td>\n",
              "      <td>37.0</td>\n",
              "      <td>2002-03-25</td>\n",
              "      <td>1</td>\n",
              "      <td>Saloon</td>\n",
              "      <td>Black</td>\n",
              "      <td>TOYOTA</td>\n",
              "      <td>Ekiti</td>\n",
              "      <td>Benue</td>\n",
              "      <td>Car Classic</td>\n",
              "      <td>0</td>\n",
              "    </tr>\n",
              "    <tr>\n",
              "      <th>10234</th>\n",
              "      <td>ID_ULWS8VL</td>\n",
              "      <td>2003-04-13</td>\n",
              "      <td>2011-04-12</td>\n",
              "      <td>Male</td>\n",
              "      <td>41.0</td>\n",
              "      <td>2003-04-13</td>\n",
              "      <td>2</td>\n",
              "      <td>Saloon</td>\n",
              "      <td>Black</td>\n",
              "      <td>TOYOTA</td>\n",
              "      <td>Ikeja</td>\n",
              "      <td>Lagos</td>\n",
              "      <td>Car Vintage</td>\n",
              "      <td>0</td>\n",
              "    </tr>\n",
              "    <tr>\n",
              "      <th>12066</th>\n",
              "      <td>ID_ZYKGSP7</td>\n",
              "      <td>2003-12-21</td>\n",
              "      <td>2034-05-20</td>\n",
              "      <td>Male</td>\n",
              "      <td>48.0</td>\n",
              "      <td>2003-12-21</td>\n",
              "      <td>2</td>\n",
              "      <td>Saloon</td>\n",
              "      <td>Black</td>\n",
              "      <td>BMW</td>\n",
              "      <td>Ikeja</td>\n",
              "      <td>Lagos</td>\n",
              "      <td>Car Vintage</td>\n",
              "      <td>0</td>\n",
              "    </tr>\n",
              "    <tr>\n",
              "      <th>8124</th>\n",
              "      <td>ID_OEWBKGF</td>\n",
              "      <td>2005-08-05</td>\n",
              "      <td>2011-09-29</td>\n",
              "      <td>Female</td>\n",
              "      <td>44.0</td>\n",
              "      <td>2005-08-05</td>\n",
              "      <td>1</td>\n",
              "      <td>Saloon</td>\n",
              "      <td>Black</td>\n",
              "      <td>Tata</td>\n",
              "      <td>Ajah</td>\n",
              "      <td>Lagos</td>\n",
              "      <td>CVTP</td>\n",
              "      <td>0</td>\n",
              "    </tr>\n",
              "    <tr>\n",
              "      <th>...</th>\n",
              "      <td>...</td>\n",
              "      <td>...</td>\n",
              "      <td>...</td>\n",
              "      <td>...</td>\n",
              "      <td>...</td>\n",
              "      <td>...</td>\n",
              "      <td>...</td>\n",
              "      <td>...</td>\n",
              "      <td>...</td>\n",
              "      <td>...</td>\n",
              "      <td>...</td>\n",
              "      <td>...</td>\n",
              "      <td>...</td>\n",
              "      <td>...</td>\n",
              "    </tr>\n",
              "    <tr>\n",
              "      <th>7479</th>\n",
              "      <td>ID_MLGO8DZ</td>\n",
              "      <td>2010-12-31</td>\n",
              "      <td>2011-06-30</td>\n",
              "      <td>Male</td>\n",
              "      <td>51.0</td>\n",
              "      <td>2010-12-31</td>\n",
              "      <td>4</td>\n",
              "      <td>Saloon</td>\n",
              "      <td>Black</td>\n",
              "      <td>Honda</td>\n",
              "      <td>Victoria Island</td>\n",
              "      <td>Lagos</td>\n",
              "      <td>Car Classic</td>\n",
              "      <td>0</td>\n",
              "    </tr>\n",
              "    <tr>\n",
              "      <th>1997</th>\n",
              "      <td>ID_62LBOWI</td>\n",
              "      <td>2010-12-31</td>\n",
              "      <td>2011-12-30</td>\n",
              "      <td>Male</td>\n",
              "      <td>44.0</td>\n",
              "      <td>2010-12-31</td>\n",
              "      <td>1</td>\n",
              "      <td>Saloon</td>\n",
              "      <td>Black</td>\n",
              "      <td>Honda</td>\n",
              "      <td>Victoria Island</td>\n",
              "      <td>Lagos</td>\n",
              "      <td>Car Classic</td>\n",
              "      <td>0</td>\n",
              "    </tr>\n",
              "    <tr>\n",
              "      <th>11299</th>\n",
              "      <td>ID_XR8F115</td>\n",
              "      <td>2010-12-31</td>\n",
              "      <td>2011-12-30</td>\n",
              "      <td>Male</td>\n",
              "      <td>37.0</td>\n",
              "      <td>2010-12-31</td>\n",
              "      <td>1</td>\n",
              "      <td>JEEP</td>\n",
              "      <td>Black</td>\n",
              "      <td>Hyundai</td>\n",
              "      <td>Victoria Island</td>\n",
              "      <td>Lagos</td>\n",
              "      <td>CarSafe</td>\n",
              "      <td>0</td>\n",
              "    </tr>\n",
              "    <tr>\n",
              "      <th>2919</th>\n",
              "      <td>ID_8P2UGYO</td>\n",
              "      <td>2010-12-31</td>\n",
              "      <td>2011-12-30</td>\n",
              "      <td>Male</td>\n",
              "      <td>20.0</td>\n",
              "      <td>2010-12-31</td>\n",
              "      <td>1</td>\n",
              "      <td>JEEP</td>\n",
              "      <td>Black</td>\n",
              "      <td>Hyundai</td>\n",
              "      <td>Victoria Island</td>\n",
              "      <td>Lagos</td>\n",
              "      <td>CarSafe</td>\n",
              "      <td>0</td>\n",
              "    </tr>\n",
              "    <tr>\n",
              "      <th>2886</th>\n",
              "      <td>ID_8MNXRC6</td>\n",
              "      <td>2010-12-31</td>\n",
              "      <td>2011-12-16</td>\n",
              "      <td>Male</td>\n",
              "      <td>36.0</td>\n",
              "      <td>2010-12-31</td>\n",
              "      <td>1</td>\n",
              "      <td>Saloon</td>\n",
              "      <td>Silver</td>\n",
              "      <td>Kia</td>\n",
              "      <td>Anthony Village</td>\n",
              "      <td>Lagos</td>\n",
              "      <td>Car Classic</td>\n",
              "      <td>1</td>\n",
              "    </tr>\n",
              "  </tbody>\n",
              "</table>\n",
              "<p>12079 rows × 14 columns</p>\n",
              "</div>"
            ],
            "text/plain": [
              "               ID Policy_Start_Date Policy_End_Date  Gender   Age  \\\n",
              "8010   ID_O51ZQ1B        2001-12-11      2011-12-10  Female  37.0   \n",
              "10526  ID_VJ1FAVO        2002-03-25      2011-03-24    Male  37.0   \n",
              "10234  ID_ULWS8VL        2003-04-13      2011-04-12    Male  41.0   \n",
              "12066  ID_ZYKGSP7        2003-12-21      2034-05-20    Male  48.0   \n",
              "8124   ID_OEWBKGF        2005-08-05      2011-09-29  Female  44.0   \n",
              "...           ...               ...             ...     ...   ...   \n",
              "7479   ID_MLGO8DZ        2010-12-31      2011-06-30    Male  51.0   \n",
              "1997   ID_62LBOWI        2010-12-31      2011-12-30    Male  44.0   \n",
              "11299  ID_XR8F115        2010-12-31      2011-12-30    Male  37.0   \n",
              "2919   ID_8P2UGYO        2010-12-31      2011-12-30    Male  20.0   \n",
              "2886   ID_8MNXRC6        2010-12-31      2011-12-16    Male  36.0   \n",
              "\n",
              "      First_Transaction_Date  No_Pol Car_Category Subject_Car_Colour  \\\n",
              "8010              2001-12-11       1       Saloon              Black   \n",
              "10526             2002-03-25       1       Saloon              Black   \n",
              "10234             2003-04-13       2       Saloon              Black   \n",
              "12066             2003-12-21       2       Saloon              Black   \n",
              "8124              2005-08-05       1       Saloon              Black   \n",
              "...                      ...     ...          ...                ...   \n",
              "7479              2010-12-31       4       Saloon              Black   \n",
              "1997              2010-12-31       1       Saloon              Black   \n",
              "11299             2010-12-31       1         JEEP              Black   \n",
              "2919              2010-12-31       1         JEEP              Black   \n",
              "2886              2010-12-31       1       Saloon             Silver   \n",
              "\n",
              "      Subject_Car_Make         LGA_Name  State  ProductName  target  \n",
              "8010             Honda              NaN    NaN  Car Vintage       0  \n",
              "10526           TOYOTA            Ekiti  Benue  Car Classic       0  \n",
              "10234           TOYOTA            Ikeja  Lagos  Car Vintage       0  \n",
              "12066              BMW            Ikeja  Lagos  Car Vintage       0  \n",
              "8124              Tata             Ajah  Lagos         CVTP       0  \n",
              "...                ...              ...    ...          ...     ...  \n",
              "7479             Honda  Victoria Island  Lagos  Car Classic       0  \n",
              "1997             Honda  Victoria Island  Lagos  Car Classic       0  \n",
              "11299          Hyundai  Victoria Island  Lagos      CarSafe       0  \n",
              "2919           Hyundai  Victoria Island  Lagos      CarSafe       0  \n",
              "2886               Kia  Anthony Village  Lagos  Car Classic       1  \n",
              "\n",
              "[12079 rows x 14 columns]"
            ]
          },
          "execution_count": 157,
          "metadata": {},
          "output_type": "execute_result"
        }
      ],
      "source": [
        "train"
      ]
    },
    {
      "cell_type": "markdown",
      "metadata": {},
      "source": [
        "### Encode the columns using label encoder"
      ]
    },
    {
      "cell_type": "code",
      "execution_count": 158,
      "metadata": {},
      "outputs": [],
      "source": [
        "categorical_cols = [\"Gender\", \"Car_Category\", \"Subject_Car_Colour\", \"Subject_Car_Make\", \"ProductName\", \"Policy_Start_Date\", \"Policy_End_Date\", \"First_Transaction_Date\", \"LGA_Name\", \"State\"]\n",
        "\n",
        "le = LabelEncoder()\n",
        "for col in categorical_cols:\n",
        "    train[col] = le.fit_transform(train[col].astype(str))"
      ]
    },
    {
      "cell_type": "code",
      "execution_count": 159,
      "metadata": {},
      "outputs": [],
      "source": [
        "categorical_cols = [\"Gender\", \"Car_Category\", \"Subject_Car_Colour\", \"Subject_Car_Make\", \"ProductName\", \"Policy_Start_Date\", \"Policy_End_Date\", \"First_Transaction_Date\", \"LGA_Name\", \"State\"]\n",
        "\n",
        "le = LabelEncoder()\n",
        "for col in categorical_cols:\n",
        "    test[col] = le.fit_transform(test[col].astype(str))"
      ]
    },
    {
      "cell_type": "code",
      "execution_count": 160,
      "metadata": {},
      "outputs": [
        {
          "data": {
            "image/png": "[encoded data removed]",
            "text/plain": [
              "<Figure size 1000x700 with 1 Axes>"
            ]
          },
          "metadata": {},
          "output_type": "display_data"
        }
      ],
      "source": [
        "ax = train.isna().sum().sort_values().plot(kind = 'barh', figsize = (10, 7))\n",
        "plt.title('Percentage of Missing Values Per Column in Train Set', fontdict={'size':15})\n",
        "for p in ax.patches:\n",
        "    percentage ='{:,.0f}%'.format((p.get_width()/train.shape[0])*100)\n",
        "    width, height =p.get_width(),p.get_height()\n",
        "    x=p.get_x()+width+0.02\n",
        "    y=p.get_y()+height/2\n",
        "    ax.annotate(percentage,(x,y))"
      ]
    },
    {
      "cell_type": "code",
      "execution_count": 64,
      "metadata": {},
      "outputs": [],
      "source": [
        "train = train.drop(columns = [\"ID\"])"
      ]
    },
    {
      "cell_type": "code",
      "execution_count": 65,
      "metadata": {},
      "outputs": [],
      "source": [
        "test = test.drop(columns = [\"ID\"])"
      ]
    },
    {
      "cell_type": "markdown",
      "metadata": {},
      "source": [
        "## Correlation Matrix"
      ]
    },
    {
      "cell_type": "code",
      "execution_count": 66,
      "metadata": {},
      "outputs": [],
      "source": [
        "\n",
        "features = ['Policy_Start_Date', 'Policy_End_Date', 'Gender', 'Age',\n",
        "       'First_Transaction_Date', 'No_Pol', 'Car_Category',\n",
        "       'Subject_Car_Colour', 'Subject_Car_Make', 'LGA_Name', 'State',\n",
        "       'ProductName', 'target']\n",
        "\n",
        "corr_matrix = train[features].corr()\n",
        "corr_matrix_df = corr_matrix.reset_index().melt(id_vars=\"index\", var_name=\"Feature_2\", value_name=\"Correlation\")\n",
        "corr_matrix_df.rename(columns={\"index\": \"Feature_1\"}, inplace=True)"
      ]
    },
    {
      "cell_type": "code",
      "execution_count": 67,
      "metadata": {},
      "outputs": [
        {
          "data": {
            "image/png": "[encoded data removed]",
            "text/plain": [
              "<Figure size 2000x1000 with 2 Axes>"
            ]
          },
          "metadata": {},
          "output_type": "display_data"
        }
      ],
      "source": [
        "plt.figure(figsize=(20, 10))\n",
        "sns.heatmap(corr_matrix, annot=True, cmap=\"coolwarm\", fmt=\".2f\", linewidths=0.5)\n",
        "plt.title(\"Feature Correlation Heatmap\")\n",
        "plt.xticks(rotation=90)\n",
        "plt.yticks(rotation=0)\n",
        "plt.show()"
      ]
    },
    {
      "cell_type": "markdown",
      "metadata": {},
      "source": [
        "## Model Training"
      ]
    },
    {
      "cell_type": "code",
      "execution_count": 75,
      "metadata": {},
      "outputs": [],
      "source": [
        "X = train[[\"Policy_Start_Date\", \"Policy_End_Date\", \"Gender\", \"Age\", \"First_Transaction_Date\", \"No_Pol\", \"Car_Category\", \"Subject_Car_Colour\", \"Subject_Car_Make\", \"ProductName\"]]\n",
        "y = train[[\"target\"]]"
      ]
    },
    {
      "cell_type": "code",
      "execution_count": 76,
      "metadata": {},
      "outputs": [],
      "source": [
        "X_test = test[[\"Policy_Start_Date\", \"Policy_End_Date\", \"Gender\", \"Age\", \"First_Transaction_Date\", \"No_Pol\", \"Car_Category\", \"Subject_Car_Colour\", \"Subject_Car_Make\", \"ProductName\"]]\n"
      ]
    },
    {
      "cell_type": "code",
      "execution_count": 77,
      "metadata": {},
      "outputs": [],
      "source": [
        "model = RandomForestClassifier(n_estimators=100, random_state=42)\n",
        "model.fit(X, y)\n",
        "train_predictions = model.predict(X)"
      ]
    },
    {
      "cell_type": "code",
      "execution_count": 78,
      "metadata": {},
      "outputs": [
        {
          "name": "stdout",
          "output_type": "stream",
          "text": [
            "F1 Score: 0.8264\n",
            "Precision: 0.8977\n",
            "Recall: 0.7656\n",
            "Confusion Matrix:\n",
            "[[10497   127]\n",
            " [  341  1114]]\n"
          ]
        }
      ],
      "source": [
        "f1 = f1_score(y, train_predictions)\n",
        "precision = precision_score(y, train_predictions)\n",
        "recall = recall_score(y, train_predictions)\n",
        "conf_matrix = confusion_matrix(y, train_predictions)\n",
        "\n",
        "print(f\"F1 Score: {f1:.4f}\")\n",
        "print(f\"Precision: {precision:.4f}\")\n",
        "print(f\"Recall: {recall:.4f}\")\n",
        "print(\"Confusion Matrix:\")\n",
        "print(conf_matrix)"
      ]
    },
    {
      "cell_type": "code",
      "execution_count": 79,
      "metadata": {},
      "outputs": [
        {
          "name": "stdout",
          "output_type": "stream",
          "text": [
            "[0 0 0 ... 0 0 0]\n"
          ]
        }
      ],
      "source": [
        "test_predictions = model.predict(X_test)\n",
        "print(test_predictions)"
      ]
    },
    {
      "cell_type": "code",
      "execution_count": 80,
      "metadata": {},
      "outputs": [],
      "source": [
        "ss['target'] = test_predictions\n",
        "ss.to_csv('submission.csv', index=False)"
      ]
    },
    {
      "cell_type": "markdown",
      "metadata": {
        "id": "oo9bQICy22yi"
      },
      "source": [
        "## Combine train and test set for easy preprocessing "
      ]
    },
    {
      "cell_type": "code",
      "execution_count": null,
      "metadata": {
        "colab": {
          "base_uri": "https://localhost:8080/"
        },
        "id": "LMBnOTvv22yi",
        "outputId": "aa3732b6-e781-409d-b36a-23a5f7d801e6"
      },
      "outputs": [
        {
          "name": "stdout",
          "output_type": "stream",
          "text": [
            "The shape of the combined dataframe is: (13281, 14)\n"
          ]
        }
      ],
      "source": [
        "# Combine train and test set\n",
        "ntrain = train.shape[0] # to be used to split train and test set from the combined dataframe\n",
        "\n",
        "all_data = pd.concat((train, test)).reset_index(drop=True)\n",
        "print(f'The shape of the combined dataframe is: {all_data.shape}')"
      ]
    },
    {
      "cell_type": "code",
      "execution_count": null,
      "metadata": {
        "colab": {
          "base_uri": "https://localhost:8080/",
          "height": 229
        },
        "id": "Enhuekp922yj",
        "outputId": "cbd3c921-fcc3-42f6-de2e-6cf9cc0b02b2"
      },
      "outputs": [
        {
          "data": {
            "text/html": [
              "<div>\n",
              "<style scoped>\n",
              "    .dataframe tbody tr th:only-of-type {\n",
              "        vertical-align: middle;\n",
              "    }\n",
              "\n",
              "    .dataframe tbody tr th {\n",
              "        vertical-align: top;\n",
              "    }\n",
              "\n",
              "    .dataframe thead th {\n",
              "        text-align: right;\n",
              "    }\n",
              "</style>\n",
              "<table border=\"1\" class=\"dataframe\">\n",
              "  <thead>\n",
              "    <tr style=\"text-align: right;\">\n",
              "      <th></th>\n",
              "      <th>ID</th>\n",
              "      <th>Policy Start Date</th>\n",
              "      <th>Policy End Date</th>\n",
              "      <th>Gender</th>\n",
              "      <th>Age</th>\n",
              "      <th>First Transaction Date</th>\n",
              "      <th>No_Pol</th>\n",
              "      <th>Car_Category</th>\n",
              "      <th>Subject_Car_Colour</th>\n",
              "      <th>Subject_Car_Make</th>\n",
              "      <th>LGA_Name</th>\n",
              "      <th>State</th>\n",
              "      <th>ProductName</th>\n",
              "      <th>target</th>\n",
              "    </tr>\n",
              "  </thead>\n",
              "  <tbody>\n",
              "    <tr>\n",
              "      <th>13276</th>\n",
              "      <td>ID_ZTTHC5X</td>\n",
              "      <td>2010-12-05</td>\n",
              "      <td>2011-12-04</td>\n",
              "      <td>Male</td>\n",
              "      <td>67</td>\n",
              "      <td>2010-12-05</td>\n",
              "      <td>2</td>\n",
              "      <td>JEEP</td>\n",
              "      <td>Black</td>\n",
              "      <td>TOYOTA</td>\n",
              "      <td>Victoria Island</td>\n",
              "      <td>Lagos</td>\n",
              "      <td>Car Classic</td>\n",
              "      <td>NaN</td>\n",
              "    </tr>\n",
              "    <tr>\n",
              "      <th>13277</th>\n",
              "      <td>ID_ZUJAFUP</td>\n",
              "      <td>2010-01-14</td>\n",
              "      <td>2011-01-13</td>\n",
              "      <td>Male</td>\n",
              "      <td>43</td>\n",
              "      <td>2010-01-14</td>\n",
              "      <td>1</td>\n",
              "      <td>Saloon</td>\n",
              "      <td>Silver</td>\n",
              "      <td>Hyundai</td>\n",
              "      <td>Surulere</td>\n",
              "      <td>Lagos</td>\n",
              "      <td>Car Classic</td>\n",
              "      <td>NaN</td>\n",
              "    </tr>\n",
              "    <tr>\n",
              "      <th>13278</th>\n",
              "      <td>ID_ZWHCTUM</td>\n",
              "      <td>2010-07-26</td>\n",
              "      <td>2011-07-25</td>\n",
              "      <td>Male</td>\n",
              "      <td>30</td>\n",
              "      <td>2010-07-26</td>\n",
              "      <td>1</td>\n",
              "      <td>Truck</td>\n",
              "      <td>White</td>\n",
              "      <td>Iveco</td>\n",
              "      <td>Victoria Island</td>\n",
              "      <td>Lagos</td>\n",
              "      <td>CVTP</td>\n",
              "      <td>NaN</td>\n",
              "    </tr>\n",
              "    <tr>\n",
              "      <th>13279</th>\n",
              "      <td>ID_ZWQRL8L</td>\n",
              "      <td>2010-02-16</td>\n",
              "      <td>2011-02-15</td>\n",
              "      <td>Male</td>\n",
              "      <td>44</td>\n",
              "      <td>2010-02-16</td>\n",
              "      <td>2</td>\n",
              "      <td>Saloon</td>\n",
              "      <td>NaN</td>\n",
              "      <td>Nissan</td>\n",
              "      <td>Aba North</td>\n",
              "      <td>Aba-North</td>\n",
              "      <td>Car Classic</td>\n",
              "      <td>NaN</td>\n",
              "    </tr>\n",
              "    <tr>\n",
              "      <th>13280</th>\n",
              "      <td>ID_ZWZ92GU</td>\n",
              "      <td>2010-03-18</td>\n",
              "      <td>2011-03-17</td>\n",
              "      <td>Male</td>\n",
              "      <td>28</td>\n",
              "      <td>2010-03-18</td>\n",
              "      <td>1</td>\n",
              "      <td>Saloon</td>\n",
              "      <td>Silver</td>\n",
              "      <td>TOYOTA</td>\n",
              "      <td>NaN</td>\n",
              "      <td>NaN</td>\n",
              "      <td>Car Classic</td>\n",
              "      <td>NaN</td>\n",
              "    </tr>\n",
              "  </tbody>\n",
              "</table>\n",
              "</div>"
            ],
            "text/plain": [
              "               ID Policy Start Date Policy End Date Gender  Age  \\\n",
              "13276  ID_ZTTHC5X        2010-12-05      2011-12-04   Male   67   \n",
              "13277  ID_ZUJAFUP        2010-01-14      2011-01-13   Male   43   \n",
              "13278  ID_ZWHCTUM        2010-07-26      2011-07-25   Male   30   \n",
              "13279  ID_ZWQRL8L        2010-02-16      2011-02-15   Male   44   \n",
              "13280  ID_ZWZ92GU        2010-03-18      2011-03-17   Male   28   \n",
              "\n",
              "      First Transaction Date  No_Pol Car_Category Subject_Car_Colour  \\\n",
              "13276             2010-12-05       2         JEEP              Black   \n",
              "13277             2010-01-14       1       Saloon             Silver   \n",
              "13278             2010-07-26       1        Truck              White   \n",
              "13279             2010-02-16       2       Saloon                NaN   \n",
              "13280             2010-03-18       1       Saloon             Silver   \n",
              "\n",
              "      Subject_Car_Make         LGA_Name      State  ProductName  target  \n",
              "13276           TOYOTA  Victoria Island      Lagos  Car Classic     NaN  \n",
              "13277          Hyundai         Surulere      Lagos  Car Classic     NaN  \n",
              "13278            Iveco  Victoria Island      Lagos         CVTP     NaN  \n",
              "13279           Nissan        Aba North  Aba-North  Car Classic     NaN  \n",
              "13280           TOYOTA              NaN        NaN  Car Classic     NaN  "
            ]
          },
          "execution_count": 18,
          "metadata": {},
          "output_type": "execute_result"
        }
      ],
      "source": [
        "# Preview the last five rows of the combined dataframe\n",
        "all_data.tail()"
      ]
    },
    {
      "cell_type": "code",
      "execution_count": null,
      "metadata": {
        "colab": {
          "base_uri": "https://localhost:8080/"
        },
        "id": "Zmhi38ur22yj",
        "outputId": "b70fdb83-6e8a-4d1d-c7e0-7461d6ef10ac"
      },
      "outputs": [
        {
          "name": "stdout",
          "output_type": "stream",
          "text": [
            "<class 'pandas.core.frame.DataFrame'>\n",
            "RangeIndex: 13281 entries, 0 to 13280\n",
            "Data columns (total 14 columns):\n",
            " #   Column                  Non-Null Count  Dtype  \n",
            "---  ------                  --------------  -----  \n",
            " 0   ID                      13281 non-null  object \n",
            " 1   Policy Start Date       13281 non-null  object \n",
            " 2   Policy End Date         13281 non-null  object \n",
            " 3   Gender                  12881 non-null  object \n",
            " 4   Age                     13281 non-null  int64  \n",
            " 5   First Transaction Date  13281 non-null  object \n",
            " 6   No_Pol                  13281 non-null  int64  \n",
            " 7   Car_Category            9171 non-null   object \n",
            " 8   Subject_Car_Colour      5622 non-null   object \n",
            " 9   Subject_Car_Make        10557 non-null  object \n",
            " 10  LGA_Name                6149 non-null   object \n",
            " 11  State                   6137 non-null   object \n",
            " 12  ProductName             13281 non-null  object \n",
            " 13  target                  12079 non-null  float64\n",
            "dtypes: float64(1), int64(2), object(11)\n",
            "memory usage: 1.4+ MB\n"
          ]
        }
      ],
      "source": [
        "# Check the column names and datatypes\n",
        "all_data.info()"
      ]
    },
    {
      "cell_type": "code",
      "execution_count": null,
      "metadata": {
        "colab": {
          "base_uri": "https://localhost:8080/"
        },
        "id": "lErcKRUdRPCu",
        "outputId": "e2ab033e-4485-4b7c-eabd-aa50184494ed"
      },
      "outputs": [
        {
          "name": "stdout",
          "output_type": "stream",
          "text": [
            "<class 'pandas.core.frame.DataFrame'>\n",
            "RangeIndex: 13281 entries, 0 to 13280\n",
            "Data columns (total 14 columns):\n",
            " #   Column                  Non-Null Count  Dtype         \n",
            "---  ------                  --------------  -----         \n",
            " 0   ID                      13281 non-null  object        \n",
            " 1   Policy Start Date       13281 non-null  datetime64[ns]\n",
            " 2   Policy End Date         13281 non-null  datetime64[ns]\n",
            " 3   Gender                  12881 non-null  category      \n",
            " 4   Age                     13281 non-null  int64         \n",
            " 5   First Transaction Date  13281 non-null  datetime64[ns]\n",
            " 6   No_Pol                  13281 non-null  int64         \n",
            " 7   Car_Category            9171 non-null   category      \n",
            " 8   Subject_Car_Colour      5622 non-null   category      \n",
            " 9   Subject_Car_Make        10557 non-null  category      \n",
            " 10  LGA_Name                6149 non-null   category      \n",
            " 11  State                   6137 non-null   category      \n",
            " 12  ProductName             13281 non-null  category      \n",
            " 13  target                  12079 non-null  float64       \n",
            "dtypes: category(7), datetime64[ns](3), float64(1), int64(2), object(1)\n",
            "memory usage: 850.8+ KB\n"
          ]
        }
      ],
      "source": [
        "# Change each column to its appriopriate datatype\n",
        "date_cols = [col for col in all_data.columns if 'Date' in col]\n",
        "num_cols = ['Age', 'No_Pol']\n",
        "cat_cols = [col for col in all_data.columns if col not in date_cols+num_cols+['ID', 'target']]\n",
        "\n",
        "for col in all_data.columns:\n",
        "  if col in date_cols:\n",
        "    all_data[col] = pd.to_datetime(all_data[col])\n",
        "  elif col in cat_cols:\n",
        "    all_data[col] = all_data[col].astype('category')\n",
        "\n",
        "# Confirm whether the changes have been applied successfully\n",
        "all_data.info()"
      ]
    },
    {
      "cell_type": "markdown",
      "metadata": {
        "id": "pL-uhhyKUHWw"
      },
      "source": [
        "### Distribution of the target variable"
      ]
    },
    {
      "cell_type": "code",
      "execution_count": null,
      "metadata": {
        "colab": {
          "base_uri": "https://localhost:8080/",
          "height": 296
        },
        "id": "lYzk7oDe22ym",
        "outputId": "230e7f80-d204-46b6-a66f-7dab63acef3b"
      },
      "outputs": [
        {
          "data": {
            "image/png": "[encoded data removed]",
            "text/plain": [
              "<Figure size 640x480 with 1 Axes>"
            ]
          },
          "metadata": {},
          "output_type": "display_data"
        }
      ],
      "source": [
        "sns.countplot(train.target)\n",
        "plt.title('Target Distribution', fontdict={'size':14});"
      ]
    },
    {
      "cell_type": "markdown",
      "metadata": {
        "id": "feOHk7mRheOQ"
      },
      "source": [
        "### Distribution of the Gender column"
      ]
    },
    {
      "cell_type": "code",
      "execution_count": null,
      "metadata": {
        "colab": {
          "base_uri": "https://localhost:8080/",
          "height": 446
        },
        "id": "gLFQ8acB22yp",
        "outputId": "754f73d1-750f-4489-98a8-c4c874ab521f"
      },
      "outputs": [
        {
          "data": {
            "image/png": "[encoded data removed]",
            "text/plain": [
              "<Figure size 1000x700 with 1 Axes>"
            ]
          },
          "metadata": {},
          "output_type": "display_data"
        }
      ],
      "source": [
        "# Gender distribution \n",
        "ax = all_data.Gender.value_counts().sort_values().plot(kind = 'barh', figsize=(10,7))\n",
        "plt.title('Gender Distribution', fontdict={'size': 15})\n",
        "for p in ax.patches:\n",
        "  percentage ='{:,.1f}%'.format((p.get_width()/all_data.shape[0])*100)\n",
        "  width, height =p.get_width(),p.get_height()\n",
        "  x=p.get_x()+width+0.02\n",
        "  y=p.get_y()+height/2\n",
        "  ax.annotate(percentage,(x,y))"
      ]
    },
    {
      "cell_type": "code",
      "execution_count": null,
      "metadata": {
        "colab": {
          "base_uri": "https://localhost:8080/"
        },
        "id": "nialRZ4hWhMW",
        "outputId": "d0282bec-7dec-4c18-e90c-b86e9817dd7b"
      },
      "outputs": [
        {
          "data": {
            "text/plain": [
              "Gender\n",
              "Male      8356\n",
              "Female    3679\n",
              "Other      846\n",
              "Name: count, dtype: int64"
            ]
          },
          "execution_count": 24,
          "metadata": {},
          "output_type": "execute_result"
        }
      ],
      "source": [
        "mapper = {'Entity':'Other', 'Joint Gender':'Other', 'NOT STATED':'Other', 'NO GENDER': 'Other', 'SEX':\"Other\"}\n",
        "all_data.Gender = all_data.Gender.replace(mapper)\n",
        "\n",
        "# Confirm mappings\n",
        "all_data.Gender.value_counts()"
      ]
    },
    {
      "cell_type": "markdown",
      "metadata": {
        "id": "7rZ9LClahj5F"
      },
      "source": [
        "### Number of unique values per categorical column"
      ]
    },
    {
      "cell_type": "code",
      "execution_count": null,
      "metadata": {
        "colab": {
          "base_uri": "https://localhost:8080/"
        },
        "id": "rOd8usWw22yp",
        "outputId": "dd5e9ed1-c566-4ae5-d881-c9eb26ba28e9"
      },
      "outputs": [
        {
          "name": "stdout",
          "output_type": "stream",
          "text": [
            "Gender\n",
            "['Male', 'Female', 'Other', NaN]\n",
            "Categories (3, object): ['Other', 'Female', 'Male'] \n",
            "\n",
            "Car_Category\n",
            "['Saloon', 'JEEP', NaN, 'Motorcycle', 'Truck', ..., 'Wagon', 'Shape Of Vehicle Chasis', 'Sedan', 'Station 4 Wheel', 'Tipper Truck']\n",
            "Length: 17\n",
            "Categories (16, object): ['Bus', 'CAMRY CAR HIRE', 'JEEP', 'Mini Bus', ..., 'Tipper Truck', 'Truck', 'Van', 'Wagon'] \n",
            "\n",
            "Subject_Car_Colour\n",
            "['Black', 'Grey', 'Red', NaN, 'As Attached', ..., 'Yellow & White', 'Beige Mitalic', 'Light Gray', 'Blue Sky', 'Red Maroon']\n",
            "Length: 47\n",
            "Categories (46, object): ['As Attached', 'Ash', 'B.Silver', 'Beige Mitalic', ..., 'White & Yellow', 'Wine', 'Yellow', 'Yellow & White'] \n",
            "\n",
            "Subject_Car_Make\n",
            "['TOYOTA', NaN, 'REXTON', 'Lexus', 'Hyundai', ..., 'BRILLIANCE', 'Buik', 'COMMANDER', 'Bajaj', 'Datsun']\n",
            "Length: 76\n",
            "Categories (75, object): ['.', 'ABG', 'ACURA', 'As Attached', ..., 'Volvo', 'Wrangler Jeep', 'Yamaha', 'ZOYTE'] \n",
            "\n",
            "LGA_Name\n",
            "[NaN, 'Lagos', 'Ikeja', 'Badagry', 'Eti-Osa', ..., 'Hong', 'Ifako-Agege', 'Benue', 'Okpokwu', 'Ngor-Okpala']\n",
            "Length: 271\n",
            "Categories (270, object): [' IFAKO', 'ABULE EGBA', 'AGBARA', 'AJAO ESTATE', ..., 'Yorro', 'Zaria', 'Zaria ', 'kumbotso'] \n",
            "\n",
            "State\n",
            "[NaN, 'Lagos', 'Benue', 'Eti-Osa', 'Delta', ..., 'ENUGU-SOUTH', 'Ijebu-North', 'Asari-Toru', 'Idemili-south', 'Ngor-Okpala']\n",
            "Length: 114\n",
            "Categories (113, object): ['ABULE-EGBA', 'AJAO-ESTATE', 'Aba-North', 'Aba-South', ..., 'Umuahia-South', 'Warri-Central', 'Warri-North', 'Warri-South'] \n",
            "\n",
            "ProductName\n",
            "['Car Classic', 'CarSafe', 'Muuve', 'CVTP', 'Car Plus', 'Motor Cycle', 'Customized Motor', 'CarFlex', 'Car Vintage']\n",
            "Categories (9, object): ['CVTP', 'Car Classic', 'Car Plus', 'Car Vintage', ..., 'CarSafe', 'Customized Motor', 'Motor Cycle', 'Muuve'] \n",
            "\n"
          ]
        }
      ],
      "source": [
        "# Check unique values for each categorical column\n",
        "for col in cat_cols:\n",
        "  print(col)\n",
        "  print(all_data[col].unique(), '\\n')"
      ]
    },
    {
      "cell_type": "markdown",
      "metadata": {
        "id": "2akc9eF-hsWo"
      },
      "source": [
        "### Filling in missing values\n",
        "#### Missing values can be filled using different strategies\n",
        "Tips:\n",
        " - Mean\n",
        " - Max\n",
        " - Min\n",
        " - [sklearn SimpleImputer](https://scikit-learn.org/stable/modules/generated/sklearn.impute.SimpleImputer.html)\n",
        " - Others... do more reasearch"
      ]
    },
    {
      "cell_type": "code",
      "execution_count": null,
      "metadata": {
        "colab": {
          "base_uri": "https://localhost:8080/"
        },
        "id": "E61_c9DZYkuu",
        "outputId": "44b08ab0-3223-46f2-bc42-0a905a527883"
      },
      "outputs": [],
      "source": [
        "# Fill in missing values\n",
        "# For cat cols and date cols fill in with mode and for num cols fill in with 9999\n",
        "for col in all_data.columns:\n",
        "  if col in date_cols+cat_cols:\n",
        "    all_data[col] = all_data[col].fillna(all_data[col].mode()[0])\n",
        "  elif col in num_cols:\n",
        "    all_data[col] = all_data[col].fillna(all_data[col].fillna(9999))\n",
        "\n",
        "# Confirm that there aren't any missing values\n",
        "all_data[all_data.columns.difference(['target'])].isna().sum()"
      ]
    },
    {
      "cell_type": "markdown",
      "metadata": {
        "id": "Ppmv1kB5hvWs"
      },
      "source": [
        "### Feature Engineering\n",
        "#### Alot of features can be extracted from dates\n",
        "Tips:\n",
        " - Quarter, Start of Year, month?\n",
        " - Is it a weekend, weekday?\n",
        " - Is it a holiday\n",
        " - Duration between different periods, e.g start and end of a policy\n",
        " - What features can be derived from the age column\n",
        " - Be creative 😉"
      ]
    },
    {
      "cell_type": "code",
      "execution_count": null,
      "metadata": {
        "colab": {
          "base_uri": "https://localhost:8080/",
          "height": 333
        },
        "id": "3ELOMgf3awEe",
        "outputId": "ad661bb6-4718-455e-84d2-ead392ed00c7"
      },
      "outputs": [
        {
          "data": {
            "text/html": [
              "<div>\n",
              "<style scoped>\n",
              "    .dataframe tbody tr th:only-of-type {\n",
              "        vertical-align: middle;\n",
              "    }\n",
              "\n",
              "    .dataframe tbody tr th {\n",
              "        vertical-align: top;\n",
              "    }\n",
              "\n",
              "    .dataframe thead th {\n",
              "        text-align: right;\n",
              "    }\n",
              "</style>\n",
              "<table border=\"1\" class=\"dataframe\">\n",
              "  <thead>\n",
              "    <tr style=\"text-align: right;\">\n",
              "      <th></th>\n",
              "      <th>ID</th>\n",
              "      <th>Policy Start Date</th>\n",
              "      <th>Policy End Date</th>\n",
              "      <th>Gender</th>\n",
              "      <th>Age</th>\n",
              "      <th>First Transaction Date</th>\n",
              "      <th>No_Pol</th>\n",
              "      <th>Car_Category</th>\n",
              "      <th>Subject_Car_Colour</th>\n",
              "      <th>Subject_Car_Make</th>\n",
              "      <th>LGA_Name</th>\n",
              "      <th>State</th>\n",
              "      <th>ProductName</th>\n",
              "      <th>target</th>\n",
              "      <th>Policy Start Dateyear</th>\n",
              "      <th>Policy Start Datemonth</th>\n",
              "      <th>Policy Start Dateday</th>\n",
              "      <th>Policy End Dateyear</th>\n",
              "      <th>Policy End Datemonth</th>\n",
              "      <th>Policy End Dateday</th>\n",
              "      <th>First Transaction Dateyear</th>\n",
              "      <th>First Transaction Datemonth</th>\n",
              "      <th>First Transaction Dateday</th>\n",
              "    </tr>\n",
              "  </thead>\n",
              "  <tbody>\n",
              "    <tr>\n",
              "      <th>0</th>\n",
              "      <td>0040R73</td>\n",
              "      <td>2010-05-14</td>\n",
              "      <td>2011-05-13</td>\n",
              "      <td>Male</td>\n",
              "      <td>30</td>\n",
              "      <td>2010-05-14</td>\n",
              "      <td>1</td>\n",
              "      <td>Saloon</td>\n",
              "      <td>Black</td>\n",
              "      <td>TOYOTA</td>\n",
              "      <td>Victoria Island</td>\n",
              "      <td>Lagos</td>\n",
              "      <td>Car Classic</td>\n",
              "      <td>0.0</td>\n",
              "      <td>2010</td>\n",
              "      <td>5</td>\n",
              "      <td>14</td>\n",
              "      <td>2011</td>\n",
              "      <td>5</td>\n",
              "      <td>13</td>\n",
              "      <td>2010</td>\n",
              "      <td>5</td>\n",
              "      <td>14</td>\n",
              "    </tr>\n",
              "    <tr>\n",
              "      <th>1</th>\n",
              "      <td>0046BNK</td>\n",
              "      <td>2010-11-29</td>\n",
              "      <td>2011-11-28</td>\n",
              "      <td>Female</td>\n",
              "      <td>79</td>\n",
              "      <td>2010-11-29</td>\n",
              "      <td>1</td>\n",
              "      <td>JEEP</td>\n",
              "      <td>Grey</td>\n",
              "      <td>TOYOTA</td>\n",
              "      <td>Victoria Island</td>\n",
              "      <td>Lagos</td>\n",
              "      <td>Car Classic</td>\n",
              "      <td>1.0</td>\n",
              "      <td>2010</td>\n",
              "      <td>11</td>\n",
              "      <td>29</td>\n",
              "      <td>2011</td>\n",
              "      <td>11</td>\n",
              "      <td>28</td>\n",
              "      <td>2010</td>\n",
              "      <td>11</td>\n",
              "      <td>29</td>\n",
              "    </tr>\n",
              "    <tr>\n",
              "      <th>2</th>\n",
              "      <td>005QMC3</td>\n",
              "      <td>2010-03-21</td>\n",
              "      <td>2011-03-20</td>\n",
              "      <td>Male</td>\n",
              "      <td>43</td>\n",
              "      <td>2010-03-21</td>\n",
              "      <td>1</td>\n",
              "      <td>Saloon</td>\n",
              "      <td>Red</td>\n",
              "      <td>TOYOTA</td>\n",
              "      <td>Victoria Island</td>\n",
              "      <td>Lagos</td>\n",
              "      <td>Car Classic</td>\n",
              "      <td>0.0</td>\n",
              "      <td>2010</td>\n",
              "      <td>3</td>\n",
              "      <td>21</td>\n",
              "      <td>2011</td>\n",
              "      <td>3</td>\n",
              "      <td>20</td>\n",
              "      <td>2010</td>\n",
              "      <td>3</td>\n",
              "      <td>21</td>\n",
              "    </tr>\n",
              "    <tr>\n",
              "      <th>3</th>\n",
              "      <td>0079OHW</td>\n",
              "      <td>2010-08-21</td>\n",
              "      <td>2011-08-20</td>\n",
              "      <td>Male</td>\n",
              "      <td>2</td>\n",
              "      <td>2010-08-21</td>\n",
              "      <td>1</td>\n",
              "      <td>Saloon</td>\n",
              "      <td>Black</td>\n",
              "      <td>TOYOTA</td>\n",
              "      <td>Victoria Island</td>\n",
              "      <td>Lagos</td>\n",
              "      <td>CarSafe</td>\n",
              "      <td>0.0</td>\n",
              "      <td>2010</td>\n",
              "      <td>8</td>\n",
              "      <td>21</td>\n",
              "      <td>2011</td>\n",
              "      <td>8</td>\n",
              "      <td>20</td>\n",
              "      <td>2010</td>\n",
              "      <td>8</td>\n",
              "      <td>21</td>\n",
              "    </tr>\n",
              "    <tr>\n",
              "      <th>4</th>\n",
              "      <td>00BRP63</td>\n",
              "      <td>2010-08-29</td>\n",
              "      <td>2010-12-31</td>\n",
              "      <td>Other</td>\n",
              "      <td>20</td>\n",
              "      <td>2010-08-29</td>\n",
              "      <td>3</td>\n",
              "      <td>Saloon</td>\n",
              "      <td>Black</td>\n",
              "      <td>TOYOTA</td>\n",
              "      <td>Lagos</td>\n",
              "      <td>Lagos</td>\n",
              "      <td>Muuve</td>\n",
              "      <td>1.0</td>\n",
              "      <td>2010</td>\n",
              "      <td>8</td>\n",
              "      <td>29</td>\n",
              "      <td>2010</td>\n",
              "      <td>12</td>\n",
              "      <td>31</td>\n",
              "      <td>2010</td>\n",
              "      <td>8</td>\n",
              "      <td>29</td>\n",
              "    </tr>\n",
              "  </tbody>\n",
              "</table>\n",
              "</div>"
            ],
            "text/plain": [
              "        ID  ... First Transaction Dateday\n",
              "0  0040R73  ...                        14\n",
              "1  0046BNK  ...                        29\n",
              "2  005QMC3  ...                        21\n",
              "3  0079OHW  ...                        21\n",
              "4  00BRP63  ...                        29\n",
              "\n",
              "[5 rows x 23 columns]"
            ]
          },
          "execution_count": 19,
          "metadata": {
            "tags": []
          },
          "output_type": "execute_result"
        }
      ],
      "source": [
        "# Extract date features from the date columns\n",
        "for col in date_cols:\n",
        "  for date_feature in ['year', 'month', 'day']:\n",
        "    all_data[col+date_feature] = getattr(all_data[col].dt, date_feature)\n",
        "\n",
        "all_data.head()"
      ]
    },
    {
      "cell_type": "markdown",
      "metadata": {
        "id": "XOnSMk9im9EC"
      },
      "source": [
        "#### Try different strategies of dealing with categorical variables\n",
        "Tips:\n",
        " - One hot encoding\n",
        " - Label encoding\n",
        " - Target encoding\n",
        " - Reduce the number of unique values..."
      ]
    },
    {
      "cell_type": "code",
      "execution_count": null,
      "metadata": {
        "colab": {
          "base_uri": "https://localhost:8080/",
          "height": 362
        },
        "id": "hzZXqfvE22y9",
        "outputId": "422be2fb-2657-4d3a-c97a-5f81a2736170"
      },
      "outputs": [
        {
          "data": {
            "text/html": [
              "<div>\n",
              "<style scoped>\n",
              "    .dataframe tbody tr th:only-of-type {\n",
              "        vertical-align: middle;\n",
              "    }\n",
              "\n",
              "    .dataframe tbody tr th {\n",
              "        vertical-align: top;\n",
              "    }\n",
              "\n",
              "    .dataframe thead th {\n",
              "        text-align: right;\n",
              "    }\n",
              "</style>\n",
              "<table border=\"1\" class=\"dataframe\">\n",
              "  <thead>\n",
              "    <tr style=\"text-align: right;\">\n",
              "      <th></th>\n",
              "      <th>ID</th>\n",
              "      <th>Policy Start Date</th>\n",
              "      <th>Policy End Date</th>\n",
              "      <th>Age</th>\n",
              "      <th>First Transaction Date</th>\n",
              "      <th>No_Pol</th>\n",
              "      <th>target</th>\n",
              "      <th>Policy Start Dateyear</th>\n",
              "      <th>Policy Start Datemonth</th>\n",
              "      <th>Policy Start Dateday</th>\n",
              "      <th>Policy End Dateyear</th>\n",
              "      <th>Policy End Datemonth</th>\n",
              "      <th>Policy End Dateday</th>\n",
              "      <th>First Transaction Dateyear</th>\n",
              "      <th>First Transaction Datemonth</th>\n",
              "      <th>First Transaction Dateday</th>\n",
              "      <th>Gender_Female</th>\n",
              "      <th>Gender_Male</th>\n",
              "      <th>Gender_Other</th>\n",
              "      <th>Car_Category_Bus</th>\n",
              "      <th>Car_Category_CAMRY CAR HIRE</th>\n",
              "      <th>Car_Category_JEEP</th>\n",
              "      <th>Car_Category_Mini Bus</th>\n",
              "      <th>Car_Category_Mini Van</th>\n",
              "      <th>Car_Category_Motorcycle</th>\n",
              "      <th>Car_Category_Pick Up</th>\n",
              "      <th>Car_Category_Pick Up &gt; 3 Tons</th>\n",
              "      <th>Car_Category_Saloon</th>\n",
              "      <th>Car_Category_Sedan</th>\n",
              "      <th>Car_Category_Shape Of Vehicle Chasis</th>\n",
              "      <th>Car_Category_Station 4 Wheel</th>\n",
              "      <th>Car_Category_Tipper Truck</th>\n",
              "      <th>Car_Category_Truck</th>\n",
              "      <th>Car_Category_Van</th>\n",
              "      <th>Car_Category_Wagon</th>\n",
              "      <th>Subject_Car_Colour_As Attached</th>\n",
              "      <th>Subject_Car_Colour_Ash</th>\n",
              "      <th>Subject_Car_Colour_B.Silver</th>\n",
              "      <th>Subject_Car_Colour_Beige Mitalic</th>\n",
              "      <th>Subject_Car_Colour_Black</th>\n",
              "      <th>...</th>\n",
              "      <th>State_Nsit-Ubium</th>\n",
              "      <th>State_Obafemi-Owode</th>\n",
              "      <th>State_Obia-Akpor</th>\n",
              "      <th>State_Ogba-Ndoni</th>\n",
              "      <th>State_Ogbmosho-South</th>\n",
              "      <th>State_Ogun</th>\n",
              "      <th>State_Ogun-Waterside</th>\n",
              "      <th>State_Ondo</th>\n",
              "      <th>State_Ondo-West</th>\n",
              "      <th>State_Onitsha-North</th>\n",
              "      <th>State_Onitsha-South</th>\n",
              "      <th>State_Orile-Iganmu</th>\n",
              "      <th>State_Oshimili-North</th>\n",
              "      <th>State_Oshodi-Isolo</th>\n",
              "      <th>State_Osun</th>\n",
              "      <th>State_Ovia-SouthWest</th>\n",
              "      <th>State_Owerri-Municipal</th>\n",
              "      <th>State_Owerri-North</th>\n",
              "      <th>State_Owerri-West</th>\n",
              "      <th>State_Oyo</th>\n",
              "      <th>State_Oyo-East</th>\n",
              "      <th>State_Oyo-West</th>\n",
              "      <th>State_Port-Harcourt</th>\n",
              "      <th>State_QuaAn-Pan</th>\n",
              "      <th>State_Rivers</th>\n",
              "      <th>State_Udi-Agwu</th>\n",
              "      <th>State_Ughelli-North</th>\n",
              "      <th>State_Umuahia-South</th>\n",
              "      <th>State_Warri-Central</th>\n",
              "      <th>State_Warri-North</th>\n",
              "      <th>State_Warri-South</th>\n",
              "      <th>ProductName_CVTP</th>\n",
              "      <th>ProductName_Car Classic</th>\n",
              "      <th>ProductName_Car Plus</th>\n",
              "      <th>ProductName_Car Vintage</th>\n",
              "      <th>ProductName_CarFlex</th>\n",
              "      <th>ProductName_CarSafe</th>\n",
              "      <th>ProductName_Customized Motor</th>\n",
              "      <th>ProductName_Motor Cycle</th>\n",
              "      <th>ProductName_Muuve</th>\n",
              "    </tr>\n",
              "  </thead>\n",
              "  <tbody>\n",
              "    <tr>\n",
              "      <th>0</th>\n",
              "      <td>0040R73</td>\n",
              "      <td>2010-05-14</td>\n",
              "      <td>2011-05-13</td>\n",
              "      <td>30</td>\n",
              "      <td>2010-05-14</td>\n",
              "      <td>1</td>\n",
              "      <td>0.0</td>\n",
              "      <td>2010</td>\n",
              "      <td>5</td>\n",
              "      <td>14</td>\n",
              "      <td>2011</td>\n",
              "      <td>5</td>\n",
              "      <td>13</td>\n",
              "      <td>2010</td>\n",
              "      <td>5</td>\n",
              "      <td>14</td>\n",
              "      <td>0</td>\n",
              "      <td>1</td>\n",
              "      <td>0</td>\n",
              "      <td>0</td>\n",
              "      <td>0</td>\n",
              "      <td>0</td>\n",
              "      <td>0</td>\n",
              "      <td>0</td>\n",
              "      <td>0</td>\n",
              "      <td>0</td>\n",
              "      <td>0</td>\n",
              "      <td>1</td>\n",
              "      <td>0</td>\n",
              "      <td>0</td>\n",
              "      <td>0</td>\n",
              "      <td>0</td>\n",
              "      <td>0</td>\n",
              "      <td>0</td>\n",
              "      <td>0</td>\n",
              "      <td>0</td>\n",
              "      <td>0</td>\n",
              "      <td>0</td>\n",
              "      <td>0</td>\n",
              "      <td>1</td>\n",
              "      <td>...</td>\n",
              "      <td>0</td>\n",
              "      <td>0</td>\n",
              "      <td>0</td>\n",
              "      <td>0</td>\n",
              "      <td>0</td>\n",
              "      <td>0</td>\n",
              "      <td>0</td>\n",
              "      <td>0</td>\n",
              "      <td>0</td>\n",
              "      <td>0</td>\n",
              "      <td>0</td>\n",
              "      <td>0</td>\n",
              "      <td>0</td>\n",
              "      <td>0</td>\n",
              "      <td>0</td>\n",
              "      <td>0</td>\n",
              "      <td>0</td>\n",
              "      <td>0</td>\n",
              "      <td>0</td>\n",
              "      <td>0</td>\n",
              "      <td>0</td>\n",
              "      <td>0</td>\n",
              "      <td>0</td>\n",
              "      <td>0</td>\n",
              "      <td>0</td>\n",
              "      <td>0</td>\n",
              "      <td>0</td>\n",
              "      <td>0</td>\n",
              "      <td>0</td>\n",
              "      <td>0</td>\n",
              "      <td>0</td>\n",
              "      <td>0</td>\n",
              "      <td>1</td>\n",
              "      <td>0</td>\n",
              "      <td>0</td>\n",
              "      <td>0</td>\n",
              "      <td>0</td>\n",
              "      <td>0</td>\n",
              "      <td>0</td>\n",
              "      <td>0</td>\n",
              "    </tr>\n",
              "    <tr>\n",
              "      <th>1</th>\n",
              "      <td>0046BNK</td>\n",
              "      <td>2010-11-29</td>\n",
              "      <td>2011-11-28</td>\n",
              "      <td>79</td>\n",
              "      <td>2010-11-29</td>\n",
              "      <td>1</td>\n",
              "      <td>1.0</td>\n",
              "      <td>2010</td>\n",
              "      <td>11</td>\n",
              "      <td>29</td>\n",
              "      <td>2011</td>\n",
              "      <td>11</td>\n",
              "      <td>28</td>\n",
              "      <td>2010</td>\n",
              "      <td>11</td>\n",
              "      <td>29</td>\n",
              "      <td>1</td>\n",
              "      <td>0</td>\n",
              "      <td>0</td>\n",
              "      <td>0</td>\n",
              "      <td>0</td>\n",
              "      <td>1</td>\n",
              "      <td>0</td>\n",
              "      <td>0</td>\n",
              "      <td>0</td>\n",
              "      <td>0</td>\n",
              "      <td>0</td>\n",
              "      <td>0</td>\n",
              "      <td>0</td>\n",
              "      <td>0</td>\n",
              "      <td>0</td>\n",
              "      <td>0</td>\n",
              "      <td>0</td>\n",
              "      <td>0</td>\n",
              "      <td>0</td>\n",
              "      <td>0</td>\n",
              "      <td>0</td>\n",
              "      <td>0</td>\n",
              "      <td>0</td>\n",
              "      <td>0</td>\n",
              "      <td>...</td>\n",
              "      <td>0</td>\n",
              "      <td>0</td>\n",
              "      <td>0</td>\n",
              "      <td>0</td>\n",
              "      <td>0</td>\n",
              "      <td>0</td>\n",
              "      <td>0</td>\n",
              "      <td>0</td>\n",
              "      <td>0</td>\n",
              "      <td>0</td>\n",
              "      <td>0</td>\n",
              "      <td>0</td>\n",
              "      <td>0</td>\n",
              "      <td>0</td>\n",
              "      <td>0</td>\n",
              "      <td>0</td>\n",
              "      <td>0</td>\n",
              "      <td>0</td>\n",
              "      <td>0</td>\n",
              "      <td>0</td>\n",
              "      <td>0</td>\n",
              "      <td>0</td>\n",
              "      <td>0</td>\n",
              "      <td>0</td>\n",
              "      <td>0</td>\n",
              "      <td>0</td>\n",
              "      <td>0</td>\n",
              "      <td>0</td>\n",
              "      <td>0</td>\n",
              "      <td>0</td>\n",
              "      <td>0</td>\n",
              "      <td>0</td>\n",
              "      <td>1</td>\n",
              "      <td>0</td>\n",
              "      <td>0</td>\n",
              "      <td>0</td>\n",
              "      <td>0</td>\n",
              "      <td>0</td>\n",
              "      <td>0</td>\n",
              "      <td>0</td>\n",
              "    </tr>\n",
              "    <tr>\n",
              "      <th>2</th>\n",
              "      <td>005QMC3</td>\n",
              "      <td>2010-03-21</td>\n",
              "      <td>2011-03-20</td>\n",
              "      <td>43</td>\n",
              "      <td>2010-03-21</td>\n",
              "      <td>1</td>\n",
              "      <td>0.0</td>\n",
              "      <td>2010</td>\n",
              "      <td>3</td>\n",
              "      <td>21</td>\n",
              "      <td>2011</td>\n",
              "      <td>3</td>\n",
              "      <td>20</td>\n",
              "      <td>2010</td>\n",
              "      <td>3</td>\n",
              "      <td>21</td>\n",
              "      <td>0</td>\n",
              "      <td>1</td>\n",
              "      <td>0</td>\n",
              "      <td>0</td>\n",
              "      <td>0</td>\n",
              "      <td>0</td>\n",
              "      <td>0</td>\n",
              "      <td>0</td>\n",
              "      <td>0</td>\n",
              "      <td>0</td>\n",
              "      <td>0</td>\n",
              "      <td>1</td>\n",
              "      <td>0</td>\n",
              "      <td>0</td>\n",
              "      <td>0</td>\n",
              "      <td>0</td>\n",
              "      <td>0</td>\n",
              "      <td>0</td>\n",
              "      <td>0</td>\n",
              "      <td>0</td>\n",
              "      <td>0</td>\n",
              "      <td>0</td>\n",
              "      <td>0</td>\n",
              "      <td>0</td>\n",
              "      <td>...</td>\n",
              "      <td>0</td>\n",
              "      <td>0</td>\n",
              "      <td>0</td>\n",
              "      <td>0</td>\n",
              "      <td>0</td>\n",
              "      <td>0</td>\n",
              "      <td>0</td>\n",
              "      <td>0</td>\n",
              "      <td>0</td>\n",
              "      <td>0</td>\n",
              "      <td>0</td>\n",
              "      <td>0</td>\n",
              "      <td>0</td>\n",
              "      <td>0</td>\n",
              "      <td>0</td>\n",
              "      <td>0</td>\n",
              "      <td>0</td>\n",
              "      <td>0</td>\n",
              "      <td>0</td>\n",
              "      <td>0</td>\n",
              "      <td>0</td>\n",
              "      <td>0</td>\n",
              "      <td>0</td>\n",
              "      <td>0</td>\n",
              "      <td>0</td>\n",
              "      <td>0</td>\n",
              "      <td>0</td>\n",
              "      <td>0</td>\n",
              "      <td>0</td>\n",
              "      <td>0</td>\n",
              "      <td>0</td>\n",
              "      <td>0</td>\n",
              "      <td>1</td>\n",
              "      <td>0</td>\n",
              "      <td>0</td>\n",
              "      <td>0</td>\n",
              "      <td>0</td>\n",
              "      <td>0</td>\n",
              "      <td>0</td>\n",
              "      <td>0</td>\n",
              "    </tr>\n",
              "    <tr>\n",
              "      <th>3</th>\n",
              "      <td>0079OHW</td>\n",
              "      <td>2010-08-21</td>\n",
              "      <td>2011-08-20</td>\n",
              "      <td>2</td>\n",
              "      <td>2010-08-21</td>\n",
              "      <td>1</td>\n",
              "      <td>0.0</td>\n",
              "      <td>2010</td>\n",
              "      <td>8</td>\n",
              "      <td>21</td>\n",
              "      <td>2011</td>\n",
              "      <td>8</td>\n",
              "      <td>20</td>\n",
              "      <td>2010</td>\n",
              "      <td>8</td>\n",
              "      <td>21</td>\n",
              "      <td>0</td>\n",
              "      <td>1</td>\n",
              "      <td>0</td>\n",
              "      <td>0</td>\n",
              "      <td>0</td>\n",
              "      <td>0</td>\n",
              "      <td>0</td>\n",
              "      <td>0</td>\n",
              "      <td>0</td>\n",
              "      <td>0</td>\n",
              "      <td>0</td>\n",
              "      <td>1</td>\n",
              "      <td>0</td>\n",
              "      <td>0</td>\n",
              "      <td>0</td>\n",
              "      <td>0</td>\n",
              "      <td>0</td>\n",
              "      <td>0</td>\n",
              "      <td>0</td>\n",
              "      <td>0</td>\n",
              "      <td>0</td>\n",
              "      <td>0</td>\n",
              "      <td>0</td>\n",
              "      <td>1</td>\n",
              "      <td>...</td>\n",
              "      <td>0</td>\n",
              "      <td>0</td>\n",
              "      <td>0</td>\n",
              "      <td>0</td>\n",
              "      <td>0</td>\n",
              "      <td>0</td>\n",
              "      <td>0</td>\n",
              "      <td>0</td>\n",
              "      <td>0</td>\n",
              "      <td>0</td>\n",
              "      <td>0</td>\n",
              "      <td>0</td>\n",
              "      <td>0</td>\n",
              "      <td>0</td>\n",
              "      <td>0</td>\n",
              "      <td>0</td>\n",
              "      <td>0</td>\n",
              "      <td>0</td>\n",
              "      <td>0</td>\n",
              "      <td>0</td>\n",
              "      <td>0</td>\n",
              "      <td>0</td>\n",
              "      <td>0</td>\n",
              "      <td>0</td>\n",
              "      <td>0</td>\n",
              "      <td>0</td>\n",
              "      <td>0</td>\n",
              "      <td>0</td>\n",
              "      <td>0</td>\n",
              "      <td>0</td>\n",
              "      <td>0</td>\n",
              "      <td>0</td>\n",
              "      <td>0</td>\n",
              "      <td>0</td>\n",
              "      <td>0</td>\n",
              "      <td>0</td>\n",
              "      <td>1</td>\n",
              "      <td>0</td>\n",
              "      <td>0</td>\n",
              "      <td>0</td>\n",
              "    </tr>\n",
              "    <tr>\n",
              "      <th>4</th>\n",
              "      <td>00BRP63</td>\n",
              "      <td>2010-08-29</td>\n",
              "      <td>2010-12-31</td>\n",
              "      <td>20</td>\n",
              "      <td>2010-08-29</td>\n",
              "      <td>3</td>\n",
              "      <td>1.0</td>\n",
              "      <td>2010</td>\n",
              "      <td>8</td>\n",
              "      <td>29</td>\n",
              "      <td>2010</td>\n",
              "      <td>12</td>\n",
              "      <td>31</td>\n",
              "      <td>2010</td>\n",
              "      <td>8</td>\n",
              "      <td>29</td>\n",
              "      <td>0</td>\n",
              "      <td>0</td>\n",
              "      <td>1</td>\n",
              "      <td>0</td>\n",
              "      <td>0</td>\n",
              "      <td>0</td>\n",
              "      <td>0</td>\n",
              "      <td>0</td>\n",
              "      <td>0</td>\n",
              "      <td>0</td>\n",
              "      <td>0</td>\n",
              "      <td>1</td>\n",
              "      <td>0</td>\n",
              "      <td>0</td>\n",
              "      <td>0</td>\n",
              "      <td>0</td>\n",
              "      <td>0</td>\n",
              "      <td>0</td>\n",
              "      <td>0</td>\n",
              "      <td>0</td>\n",
              "      <td>0</td>\n",
              "      <td>0</td>\n",
              "      <td>0</td>\n",
              "      <td>1</td>\n",
              "      <td>...</td>\n",
              "      <td>0</td>\n",
              "      <td>0</td>\n",
              "      <td>0</td>\n",
              "      <td>0</td>\n",
              "      <td>0</td>\n",
              "      <td>0</td>\n",
              "      <td>0</td>\n",
              "      <td>0</td>\n",
              "      <td>0</td>\n",
              "      <td>0</td>\n",
              "      <td>0</td>\n",
              "      <td>0</td>\n",
              "      <td>0</td>\n",
              "      <td>0</td>\n",
              "      <td>0</td>\n",
              "      <td>0</td>\n",
              "      <td>0</td>\n",
              "      <td>0</td>\n",
              "      <td>0</td>\n",
              "      <td>0</td>\n",
              "      <td>0</td>\n",
              "      <td>0</td>\n",
              "      <td>0</td>\n",
              "      <td>0</td>\n",
              "      <td>0</td>\n",
              "      <td>0</td>\n",
              "      <td>0</td>\n",
              "      <td>0</td>\n",
              "      <td>0</td>\n",
              "      <td>0</td>\n",
              "      <td>0</td>\n",
              "      <td>0</td>\n",
              "      <td>0</td>\n",
              "      <td>0</td>\n",
              "      <td>0</td>\n",
              "      <td>0</td>\n",
              "      <td>0</td>\n",
              "      <td>0</td>\n",
              "      <td>0</td>\n",
              "      <td>1</td>\n",
              "    </tr>\n",
              "  </tbody>\n",
              "</table>\n",
              "<p>5 rows × 548 columns</p>\n",
              "</div>"
            ],
            "text/plain": [
              "        ID Policy Start Date  ... ProductName_Motor Cycle  ProductName_Muuve\n",
              "0  0040R73        2010-05-14  ...                       0                  0\n",
              "1  0046BNK        2010-11-29  ...                       0                  0\n",
              "2  005QMC3        2010-03-21  ...                       0                  0\n",
              "3  0079OHW        2010-08-21  ...                       0                  0\n",
              "4  00BRP63        2010-08-29  ...                       0                  1\n",
              "\n",
              "[5 rows x 548 columns]"
            ]
          },
          "execution_count": 20,
          "metadata": {
            "tags": []
          },
          "output_type": "execute_result"
        }
      ],
      "source": [
        "# Encode categorical features\n",
        "all_data = pd.get_dummies(data = all_data, columns = cat_cols)\n",
        "all_data.head()"
      ]
    },
    {
      "cell_type": "code",
      "execution_count": null,
      "metadata": {
        "colab": {
          "base_uri": "https://localhost:8080/"
        },
        "id": "BibprFWLdRAy",
        "outputId": "f48a22bd-dee0-4be3-e103-ffc34bb43b62"
      },
      "outputs": [
        {
          "data": {
            "text/plain": [
              "((12079, 548), (5177, 548))"
            ]
          },
          "execution_count": 21,
          "metadata": {
            "tags": []
          },
          "output_type": "execute_result"
        }
      ],
      "source": [
        "# Separate train and test data from the combined dataframe\n",
        "train_df = all_data[:ntrain]\n",
        "test_df = all_data[ntrain:]\n",
        "\n",
        "# Check the shapes of the split dataset\n",
        "train_df.shape, test_df.shape"
      ]
    },
    {
      "cell_type": "markdown",
      "metadata": {
        "id": "Rv9axjwXh2Ij"
      },
      "source": [
        "### Training and making predictions\n",
        "Tips:\n",
        "- Is lgbm the best model for this challenge?\n",
        "- Parameter tuning\n",
        " - Grid search, random search, perhaps bayesian search works better...\n",
        "\n"
      ]
    },
    {
      "cell_type": "code",
      "execution_count": null,
      "metadata": {
        "colab": {
          "base_uri": "https://localhost:8080/"
        },
        "id": "w0EL1Fk222y-",
        "outputId": "7c5142f0-8ed0-4a67-a5da-e930abe0b8f7"
      },
      "outputs": [
        {
          "name": "stdout",
          "output_type": "stream",
          "text": [
            "F1 score on the X_test is: 0.19413919413919412\n"
          ]
        }
      ],
      "source": [
        "# Select main columns to be used in training\n",
        "main_cols = all_data.columns.difference(date_cols+['ID', 'target'])\n",
        "X = train_df[main_cols]\n",
        "y = train_df.target\n",
        "\n",
        "# Split data into train and test sets\n",
        "X_train, X_test, y_train, y_test = train_test_split(X,y,test_size=0.3, random_state=42)\n",
        "\n",
        "# Train model\n",
        "model = LGBMClassifier()\n",
        "model.fit(X_train, y_train)\n",
        "\n",
        "# Make predictions\n",
        "y_pred = model.predict(X_test)\n",
        "\n",
        "# Check the f1 score of the model\n",
        "print(f'F1 score on the X_test is: {f1_score(y_test, y_pred)}')"
      ]
    },
    {
      "cell_type": "markdown",
      "metadata": {
        "id": "WZ6h0Ho3qOCV"
      },
      "source": [
        "#### [More on F1 Score](https://en.wikipedia.org/wiki/F-score)"
      ]
    },
    {
      "cell_type": "markdown",
      "metadata": {
        "id": "k_LHEtrph7Kk"
      },
      "source": [
        "### Making predictions of the test set and creating a submission file"
      ]
    },
    {
      "cell_type": "code",
      "execution_count": null,
      "metadata": {
        "colab": {
          "base_uri": "https://localhost:8080/",
          "height": 265
        },
        "id": "OP8EX6NZfSCP",
        "outputId": "cfdc1bfb-8f7a-40b3-9a6a-6613b7b3193b"
      },
      "outputs": [
        {
          "data": {
            "image/png": "[encoded data removed]",
            "text/plain": [
              "<Figure size 432x288 with 1 Axes>"
            ]
          },
          "metadata": {
            "needs_background": "light",
            "tags": []
          },
          "output_type": "display_data"
        }
      ],
      "source": [
        "# Make prediction on the test set\n",
        "test_df = test_df[main_cols]\n",
        "predictions = model.predict(test_df)\n",
        "\n",
        "# Create a submission file\n",
        "sub_file = ss.copy()\n",
        "sub_file.predictions = predictions\n",
        "\n",
        "# Check the distribution of your predictions\n",
        "sns.countplot(sub_file.predictions);"
      ]
    },
    {
      "cell_type": "code",
      "execution_count": null,
      "metadata": {
        "id": "sm_jTS4022y-"
      },
      "outputs": [],
      "source": [
        "# Create a csv file and upload to zindi \n",
        "sub_file.to_csv('Baseline.csv', index = False)"
      ]
    },
    {
      "cell_type": "markdown",
      "metadata": {
        "id": "ttQqWBi722zE"
      },
      "source": [
        "###More Tips\n",
        "- Thorough EDA and domain knowledge sourcing\n",
        "- Re-group Categorical features \n",
        "- More Feature Engineering \n",
        "- Dataset balancing - oversampling, undersampling, SMOTE...\n",
        "- Ensembling of models \n",
        "- Cross-validation: Group folds, Stratified..."
      ]
    },
    {
      "cell_type": "markdown",
      "metadata": {
        "id": "uXftXbo622zF"
      },
      "source": [
        "# ******************* GOOD LUCK!!! ***************************"
      ]
    }
  ],
  "metadata": {
    "colab": {
      "collapsed_sections": [],
      "name": "AXA-Python_StarterNotebook.ipynb",
      "provenance": []
    },
    "kernelspec": {
      "display_name": "base",
      "language": "python",
      "name": "python3"
    },
    "language_info": {
      "codemirror_mode": {
        "name": "ipython",
        "version": 3
      },
      "file_extension": ".py",
      "mimetype": "text/x-python",
      "name": "python",
      "nbconvert_exporter": "python",
      "pygments_lexer": "ipython3",
      "version": "3.12.7"
    }
  },
  "nbformat": 4,
  "nbformat_minor": 0
}
